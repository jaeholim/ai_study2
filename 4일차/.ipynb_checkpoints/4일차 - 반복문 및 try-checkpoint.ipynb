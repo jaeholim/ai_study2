{
 "cells": [
  {
   "cell_type": "markdown",
   "metadata": {},
   "source": [
    "# 반복문 심화\n",
    "\n",
    "\n",
    "# while\n",
    "- \n",
    "\n",
    "# for\n",
    "\n",
    "# try - except\n",
    "- python은 EAEP 코딩 스타일 ( 관련 링크 : https://docs.python.org/ko/3/glossary.html#term-eafp )\n",
    "- try except를 많이 사용해야 함\n",
    "- 아주간단한 식은 assert를 사용하여 체크\n"
   ]
  },
  {
   "cell_type": "code",
   "execution_count": 3,
   "metadata": {},
   "outputs": [
    {
     "name": "stdout",
     "output_type": "stream",
     "text": [
      "1\n",
      "1\n",
      "2\n",
      "2\n",
      "3\n"
     ]
    }
   ],
   "source": [
    "#  while [조건식]\n",
    "x = 0\n",
    "while True:\n",
    "    x = input()\n",
    "    if x == '3':\n",
    "        break\n",
    "    else:\n",
    "        print(x)"
   ]
  },
  {
   "cell_type": "code",
   "execution_count": 17,
   "metadata": {
    "scrolled": true
   },
   "outputs": [
    {
     "name": "stdout",
     "output_type": "stream",
     "text": [
      "2 * 1 = 2,2 * 2 = 4,2 * 3 = 6,2 * 4 = 8,2 * 5 = 10,2 * 6 = 12,2 * 7 = 14,2 * 8 = 16,2 * 9 = 18,\n",
      "==============\n",
      "2 * 1 = 2,2 * 2 = 4,2 * 3 = 6,2 * 4 = 8,2 * 5 = 10,2 * 6 = 12,2 * 7 = 14,2 * 8 = 16,2 * 9 = 18,\n",
      "==============\n",
      "2 * 1 = 2, 2 * 2 = 4, 2 * 3 = 6, 2 * 4 = 8, 2 * 5 = 10, 2 * 6 = 12, 2 * 7 = 14, 2 * 8 = 16, 2 * 9 = 18, \n",
      " 2 단 완료\n",
      "3 * 1 = 3, 3 * 2 = 6, 3 * 3 = 9, 3 * 4 = 12, 3 * 5 = 15, 3 * 6 = 18, 3 * 7 = 21, 3 * 8 = 24, 3 * 9 = 27, \n",
      " 3 단 완료\n",
      "4 * 1 = 4, 4 * 2 = 8, 4 * 3 = 12, 4 * 4 = 16, 4 * 5 = 20, 4 * 6 = 24, 4 * 7 = 28, 4 * 8 = 32, 4 * 9 = 36, \n",
      " 4 단 완료\n",
      "5 * 1 = 5, 5 * 2 = 10, 5 * 3 = 15, 5 * 4 = 20, 5 * 5 = 25, 5 * 6 = 30, 5 * 7 = 35, 5 * 8 = 40, 5 * 9 = 45, \n",
      " 5 단 완료\n",
      "6 * 1 = 6, 6 * 2 = 12, 6 * 3 = 18, 6 * 4 = 24, 6 * 5 = 30, 6 * 6 = 36, 6 * 7 = 42, 6 * 8 = 48, 6 * 9 = 54, \n",
      " 6 단 완료\n",
      "7 * 1 = 7, 7 * 2 = 14, 7 * 3 = 21, 7 * 4 = 28, 7 * 5 = 35, 7 * 6 = 42, 7 * 7 = 49, 7 * 8 = 56, 7 * 9 = 63, \n",
      " 7 단 완료\n",
      "8 * 1 = 8, 8 * 2 = 16, 8 * 3 = 24, 8 * 4 = 32, 8 * 5 = 40, 8 * 6 = 48, 8 * 7 = 56, 8 * 8 = 64, 8 * 9 = 72, \n",
      " 8 단 완료\n",
      "9 * 1 = 9, 9 * 2 = 18, 9 * 3 = 27, 9 * 4 = 36, 9 * 5 = 45, 9 * 6 = 54, 9 * 7 = 63, 9 * 8 = 72, 9 * 9 = 81, \n",
      " 9 단 완료\n",
      "\n",
      "==============\n",
      "while 완료!!\n",
      "\n",
      "==============\n",
      "for 완료!!\n"
     ]
    }
   ],
   "source": [
    "x = 1\n",
    "while x < 10:\n",
    "    print(2, '*', x, '=', 2*x, end = ',')\n",
    "    x += 1\n",
    "    \n",
    "print(\"\\n==============\")\n",
    "    \n",
    "for i in range(1, 10):\n",
    "    print(2, '*', i, '=', 2*i, end = ',')\n",
    "\n",
    "print(\"\\n==============\")\n",
    "\n",
    "x = 2\n",
    "while x < 10:\n",
    "    y = 1\n",
    "    while y < 10:\n",
    "        print(x, '*', y,'=',x*y, end=', ')\n",
    "        y += 1\n",
    "    print('\\n', x, '단 완료')\n",
    "    x +=1\n",
    "print(\"\\n==============\")\n",
    "    \n",
    "x = 10\n",
    "while x < 10:    # while문 내의 로직이 한번도 실행되지 않아도 loop는 complete된 것으로 판단\n",
    "    print(x)\n",
    "    x -= 1\n",
    "else:\n",
    "    print('while 완료!!')\n",
    "    \n",
    "print(\"\\n==============\")\n",
    "for i in range(0, 0):    # for문 내의 로직이 한번도 실행되지 않아도 loop는 complete된 것으로 판단\n",
    "    print(i)\n",
    "else:\n",
    "    print('for 완료!!')"
   ]
  },
  {
   "cell_type": "code",
   "execution_count": 18,
   "metadata": {},
   "outputs": [
    {
     "name": "stdout",
     "output_type": "stream",
     "text": [
      "The \"assert\" statement\n",
      "**********************\n",
      "\n",
      "Assert statements are a convenient way to insert debugging assertions\n",
      "into a program:\n",
      "\n",
      "   assert_stmt ::= \"assert\" expression [\",\" expression]\n",
      "\n",
      "The simple form, \"assert expression\", is equivalent to\n",
      "\n",
      "   if __debug__:\n",
      "       if not expression: raise AssertionError\n",
      "\n",
      "The extended form, \"assert expression1, expression2\", is equivalent to\n",
      "\n",
      "   if __debug__:\n",
      "       if not expression1: raise AssertionError(expression2)\n",
      "\n",
      "These equivalences assume that \"__debug__\" and \"AssertionError\" refer\n",
      "to the built-in variables with those names.  In the current\n",
      "implementation, the built-in variable \"__debug__\" is \"True\" under\n",
      "normal circumstances, \"False\" when optimization is requested (command\n",
      "line option \"-O\").  The current code generator emits no code for an\n",
      "assert statement when optimization is requested at compile time.  Note\n",
      "that it is unnecessary to include the source code for the expression\n",
      "that failed in the error message; it will be displayed as part of the\n",
      "stack trace.\n",
      "\n",
      "Assignments to \"__debug__\" are illegal.  The value for the built-in\n",
      "variable is determined when the interpreter starts.\n",
      "\n"
     ]
    }
   ],
   "source": [
    "## assert\n",
    "\n",
    "help('assert')\n",
    "\n"
   ]
  },
  {
   "cell_type": "code",
   "execution_count": 24,
   "metadata": {},
   "outputs": [
    {
     "ename": "AssertionError",
     "evalue": "",
     "output_type": "error",
     "traceback": [
      "\u001b[1;31m---------------------------------------------------------------------------\u001b[0m",
      "\u001b[1;31mAssertionError\u001b[0m                            Traceback (most recent call last)",
      "\u001b[1;32m<ipython-input-24-22e1f09d382d>\u001b[0m in \u001b[0;36m<module>\u001b[1;34m\u001b[0m\n\u001b[0;32m      4\u001b[0m \u001b[1;32massert\u001b[0m \u001b[0ma\u001b[0m \u001b[1;33m==\u001b[0m \u001b[1;36m1\u001b[0m    \u001b[1;31m# 조건식이 True이면 반환하는 값이 없음\u001b[0m\u001b[1;33m\u001b[0m\u001b[1;33m\u001b[0m\u001b[0m\n\u001b[0;32m      5\u001b[0m \u001b[1;33m\u001b[0m\u001b[0m\n\u001b[1;32m----> 6\u001b[1;33m \u001b[1;32massert\u001b[0m \u001b[0ma\u001b[0m \u001b[1;33m>\u001b[0m \u001b[1;36m1\u001b[0m     \u001b[1;31m# 조건식이 False이면 Error를 반환\u001b[0m\u001b[1;33m\u001b[0m\u001b[1;33m\u001b[0m\u001b[0m\n\u001b[0m\u001b[0;32m      7\u001b[0m \u001b[1;33m\u001b[0m\u001b[0m\n\u001b[0;32m      8\u001b[0m \u001b[1;31m## try\u001b[0m\u001b[1;33m\u001b[0m\u001b[1;33m\u001b[0m\u001b[1;33m\u001b[0m\u001b[0m\n",
      "\u001b[1;31mAssertionError\u001b[0m: "
     ]
    }
   ],
   "source": [
    "# assert 다음에 조건식을 작성\n",
    "# python\n",
    "a = 1\n",
    "assert a == 1    # 조건식이 True이면 반환하는 값이 없음\n",
    "\n",
    "assert a > 1     # 조건식이 False이면 Error를 반환\n",
    "\n"
   ]
  },
  {
   "cell_type": "code",
   "execution_count": 49,
   "metadata": {},
   "outputs": [
    {
     "name": "stdout",
     "output_type": "stream",
     "text": [
      "error\n",
      "\n",
      "==============\n",
      "success\n",
      "complete\n",
      "\n",
      "==============\n",
      "ETC error\n",
      "complete\n",
      "\n",
      "==============\n",
      "division by zero\n",
      "complete\n",
      "\n",
      "==============\n",
      "division by zero\n",
      "complete\n"
     ]
    },
    {
     "ename": "RuntimeError",
     "evalue": "Error를 정의",
     "output_type": "error",
     "traceback": [
      "\u001b[1;31m---------------------------------------------------------------------------\u001b[0m",
      "\u001b[1;31mRuntimeError\u001b[0m                              Traceback (most recent call last)",
      "\u001b[1;32m<ipython-input-49-dbe7785d20ec>\u001b[0m in \u001b[0;36m<module>\u001b[1;34m\u001b[0m\n\u001b[0;32m     57\u001b[0m     \u001b[1;31m#raise KeyError from e              # raise from 을 사용하면 e에 해당 하는 에러와 raise를 통해 발생한 에러를 모두 발생시킴\u001b[0m\u001b[1;33m\u001b[0m\u001b[1;33m\u001b[0m\u001b[1;33m\u001b[0m\u001b[0m\n\u001b[0;32m     58\u001b[0m     \u001b[1;31m#raise KeyError from None          # raise from 을 사용시 from 뒤에 None을 사용하면 '무'에서 부터 에러를 발생 시킴\u001b[0m\u001b[1;33m\u001b[0m\u001b[1;33m\u001b[0m\u001b[1;33m\u001b[0m\u001b[0m\n\u001b[1;32m---> 59\u001b[1;33m     \u001b[1;32mraise\u001b[0m \u001b[0mRuntimeError\u001b[0m\u001b[1;33m(\u001b[0m\u001b[1;34m'Error를 정의'\u001b[0m\u001b[1;33m)\u001b[0m \u001b[1;32mfrom\u001b[0m \u001b[1;32mNone\u001b[0m\u001b[1;33m\u001b[0m\u001b[1;33m\u001b[0m\u001b[0m\n\u001b[0m\u001b[0;32m     60\u001b[0m \u001b[1;32mexcept\u001b[0m\u001b[1;33m:\u001b[0m\u001b[1;33m\u001b[0m\u001b[1;33m\u001b[0m\u001b[0m\n\u001b[0;32m     61\u001b[0m     \u001b[0mprint\u001b[0m\u001b[1;33m(\u001b[0m\u001b[1;34m'ETC error'\u001b[0m\u001b[1;33m)\u001b[0m\u001b[1;33m\u001b[0m\u001b[1;33m\u001b[0m\u001b[0m\n",
      "\u001b[1;31mRuntimeError\u001b[0m: Error를 정의"
     ]
    }
   ],
   "source": [
    "## try\n",
    "\n",
    "try:\n",
    "    1/0\n",
    "except:\n",
    "    print('error')\n",
    "    \n",
    "print(\"\\n==============\")\n",
    "try:\n",
    "    1/3\n",
    "except:\n",
    "    print('error')\n",
    "else:                 # try 구문에 에러가 발생하지 않으면 실행됨 \n",
    "    print('success')\n",
    "finally:\n",
    "    print('complete')  # try 구문의 에러 발생에 관계없이 try 구문이 완료되면 실행됨\n",
    "\n",
    "print(\"\\n==============\")\n",
    "\n",
    "try:\n",
    "    # 1/0\n",
    "    aa[0]\n",
    "except AssertionError:\n",
    "    print('AssertionError error ')\n",
    "except ZeroDivisionError:\n",
    "    print ('ZeroDivisionError error')\n",
    "except:                                # Error를 지정하지 않은 Except는 제일 마지막에 써야 함(어길시 문법에러 발생)\n",
    "    print('ETC error')\n",
    "finally:\n",
    "    print('complete')\n",
    "    \n",
    "print(\"\\n==============\")\n",
    "\n",
    "try:\n",
    "    1/0\n",
    "except AssertionError:\n",
    "    print('AssertionError error ')\n",
    "except ZeroDivisionError as e:         # as 앞의 문자에 대한 간추린 표현\n",
    "    print (e)\n",
    "except:                               \n",
    "    print('ETC error')\n",
    "else:\n",
    "    print('success')\n",
    "finally:\n",
    "    print('complete')\n",
    "    \n",
    "print(\"\\n==============\")\n",
    "\n",
    "try:\n",
    "    1/0 \n",
    "except AssertionError:\n",
    "    print('AssertionError error ')\n",
    "except ZeroDivisionError as e:         # as 앞의 문자에 대한 간추린 표현\n",
    "    print (e)\n",
    "    #raise AssertionError               # 그냥 raise만 사용하면 바로전에 발생했던 error로 발생됨\n",
    "                                        # raise뒤어 Error를 발생시키면 이전에 발생한 에러와 현재 에러를 모두 발생시킴\n",
    "    #raise KeyError from e              # raise from 을 사용하면 e에 해당 하는 에러와 raise를 통해 발생한 에러를 모두 발생시킴\n",
    "    #raise KeyError from None          # raise from 을 사용시 from 뒤에 None을 사용하면 '무'에서 부터 에러를 발생 시킴\n",
    "    raise RuntimeError('Error를 정의') from None  # raise시 RuntimeError()를 사용하여 사용자가 Error를 정의 발생 시킬 수 있음\n",
    "except:                               \n",
    "    print('ETC error')\n",
    "else:\n",
    "    print('success')\n",
    "finally:\n",
    "    print('complete')"
   ]
  },
  {
   "cell_type": "code",
   "execution_count": 38,
   "metadata": {},
   "outputs": [
    {
     "name": "stdout",
     "output_type": "stream",
     "text": [
      "The \"raise\" statement\n",
      "*********************\n",
      "\n",
      "   raise_stmt ::= \"raise\" [expression [\"from\" expression]]\n",
      "\n",
      "If no expressions are present, \"raise\" re-raises the last exception\n",
      "that was active in the current scope.  If no exception is active in\n",
      "the current scope, a \"RuntimeError\" exception is raised indicating\n",
      "that this is an error.\n",
      "\n",
      "Otherwise, \"raise\" evaluates the first expression as the exception\n",
      "object.  It must be either a subclass or an instance of\n",
      "\"BaseException\". If it is a class, the exception instance will be\n",
      "obtained when needed by instantiating the class with no arguments.\n",
      "\n",
      "The *type* of the exception is the exception instance’s class, the\n",
      "*value* is the instance itself.\n",
      "\n",
      "A traceback object is normally created automatically when an exception\n",
      "is raised and attached to it as the \"__traceback__\" attribute, which\n",
      "is writable. You can create an exception and set your own traceback in\n",
      "one step using the \"with_traceback()\" exception method (which returns\n",
      "the same exception instance, with its traceback set to its argument),\n",
      "like so:\n",
      "\n",
      "   raise Exception(\"foo occurred\").with_traceback(tracebackobj)\n",
      "\n",
      "The \"from\" clause is used for exception chaining: if given, the second\n",
      "*expression* must be another exception class or instance, which will\n",
      "then be attached to the raised exception as the \"__cause__\" attribute\n",
      "(which is writable).  If the raised exception is not handled, both\n",
      "exceptions will be printed:\n",
      "\n",
      "   >>> try:\n",
      "   ...     print(1 / 0)\n",
      "   ... except Exception as exc:\n",
      "   ...     raise RuntimeError(\"Something bad happened\") from exc\n",
      "   ...\n",
      "   Traceback (most recent call last):\n",
      "     File \"<stdin>\", line 2, in <module>\n",
      "   ZeroDivisionError: division by zero\n",
      "\n",
      "   The above exception was the direct cause of the following exception:\n",
      "\n",
      "   Traceback (most recent call last):\n",
      "     File \"<stdin>\", line 4, in <module>\n",
      "   RuntimeError: Something bad happened\n",
      "\n",
      "A similar mechanism works implicitly if an exception is raised inside\n",
      "an exception handler or a \"finally\" clause: the previous exception is\n",
      "then attached as the new exception’s \"__context__\" attribute:\n",
      "\n",
      "   >>> try:\n",
      "   ...     print(1 / 0)\n",
      "   ... except:\n",
      "   ...     raise RuntimeError(\"Something bad happened\")\n",
      "   ...\n",
      "   Traceback (most recent call last):\n",
      "     File \"<stdin>\", line 2, in <module>\n",
      "   ZeroDivisionError: division by zero\n",
      "\n",
      "   During handling of the above exception, another exception occurred:\n",
      "\n",
      "   Traceback (most recent call last):\n",
      "     File \"<stdin>\", line 4, in <module>\n",
      "   RuntimeError: Something bad happened\n",
      "\n",
      "Exception chaining can be explicitly suppressed by specifying \"None\"\n",
      "in the \"from\" clause:\n",
      "\n",
      "   >>> try:\n",
      "   ...     print(1 / 0)\n",
      "   ... except:\n",
      "   ...     raise RuntimeError(\"Something bad happened\") from None\n",
      "   ...\n",
      "   Traceback (most recent call last):\n",
      "     File \"<stdin>\", line 4, in <module>\n",
      "   RuntimeError: Something bad happened\n",
      "\n",
      "Additional information on exceptions can be found in section\n",
      "Exceptions, and information about handling exceptions is in section\n",
      "The try statement.\n",
      "\n",
      "Changed in version 3.3: \"None\" is now permitted as \"Y\" in \"raise X\n",
      "from Y\".\n",
      "\n",
      "New in version 3.3: The \"__suppress_context__\" attribute to suppress\n",
      "automatic display of the exception context.\n",
      "\n",
      "Related help topics: EXCEPTIONS\n",
      "\n"
     ]
    }
   ],
   "source": [
    "help('raise')\n"
   ]
  },
  {
   "cell_type": "code",
   "execution_count": 51,
   "metadata": {},
   "outputs": [
    {
     "name": "stdout",
     "output_type": "stream",
     "text": [
      "3\n"
     ]
    },
    {
     "data": {
      "text/plain": [
       "3"
      ]
     },
     "execution_count": 51,
     "metadata": {},
     "output_type": "execute_result"
    }
   ],
   "source": []
  },
  {
   "cell_type": "code",
   "execution_count": null,
   "metadata": {},
   "outputs": [],
   "source": []
  }
 ],
 "metadata": {
  "kernelspec": {
   "display_name": "Python 3",
   "language": "python",
   "name": "python3"
  },
  "language_info": {
   "codemirror_mode": {
    "name": "ipython",
    "version": 3
   },
   "file_extension": ".py",
   "mimetype": "text/x-python",
   "name": "python",
   "nbconvert_exporter": "python",
   "pygments_lexer": "ipython3",
   "version": "3.7.6"
  }
 },
 "nbformat": 4,
 "nbformat_minor": 4
}
