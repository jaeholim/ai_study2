{
 "cells": [
  {
   "cell_type": "markdown",
   "metadata": {},
   "source": [
    "# 함수\n",
    "- parameter(매개변수) - 함수 선언할때 함수에 정의된 값들\n",
    "- argument(인자) - 함수 호출시 사용되는 값들"
   ]
  },
  {
   "cell_type": "code",
   "execution_count": 68,
   "metadata": {},
   "outputs": [],
   "source": [
    "import pandas as pd\n",
    "pd.read_csv"
   ]
  },
  {
   "cell_type": "code",
   "execution_count": 66,
   "metadata": {},
   "outputs": [
    {
     "name": "stdout",
     "output_type": "stream",
     "text": [
      "100\n",
      "{'b': 2, 'c': 3}\n"
     ]
    }
   ],
   "source": [
    "def x(a,b,c,d):\n",
    "    return a+b+c+d\n",
    "\n",
    "def tt(**b):\n",
    "    if 'a' in b:\n",
    "        return 100\n",
    "    else:\n",
    "        return b\n",
    "\n",
    "print(tt(a=1, b=2))\n",
    "print(tt(b=2,c=3))"
   ]
  },
  {
   "cell_type": "code",
   "execution_count": 64,
   "metadata": {},
   "outputs": [
    {
     "data": {
      "text/plain": [
       "[<matplotlib.lines.Line2D at 0xadfb2c8>,\n",
       " <matplotlib.lines.Line2D at 0xae10a48>,\n",
       " <matplotlib.lines.Line2D at 0xae10c48>]"
      ]
     },
     "execution_count": 64,
     "metadata": {},
     "output_type": "execute_result"
    },
    {
     "data": {
      "image/png": "[encoded data removed]",
      "text/plain": [
       "<Figure size 432x288 with 1 Axes>"
      ]
     },
     "metadata": {
      "needs_background": "light"
     },
     "output_type": "display_data"
    }
   ],
   "source": [
    "import matplotlib.pyplot as plt\n",
    "#plt.plot([1,2,3], [4,7,9])\n",
    "plt.plot([1,2,3], [10,20,30], [1,1,1], [4,5,6], [40,50,60])"
   ]
  },
  {
   "cell_type": "code",
   "execution_count": 54,
   "metadata": {},
   "outputs": [
    {
     "data": {
      "text/plain": [
       "<BarContainer object of 3 artists>"
      ]
     },
     "execution_count": 54,
     "metadata": {},
     "output_type": "execute_result"
    },
    {
     "data": {
      "image/png": "[encoded data removed]",
      "text/plain": [
       "<Figure size 432x288 with 1 Axes>"
      ]
     },
     "metadata": {
      "needs_background": "light"
     },
     "output_type": "display_data"
    }
   ],
   "source": [
    "plt.bar([1,3,5], [10,5,30],color='red')"
   ]
  },
  {
   "cell_type": "code",
   "execution_count": 58,
   "metadata": {},
   "outputs": [
    {
     "ename": "SyntaxError",
     "evalue": "invalid syntax (<ipython-input-58-c7e3ed1db784>, line 34)",
     "output_type": "error",
     "traceback": [
      "\u001b[1;36m  File \u001b[1;32m\"<ipython-input-58-c7e3ed1db784>\"\u001b[1;36m, line \u001b[1;32m34\u001b[0m\n\u001b[1;33m    def f3(a, /):\u001b[0m\n\u001b[1;37m              ^\u001b[0m\n\u001b[1;31mSyntaxError\u001b[0m\u001b[1;31m:\u001b[0m invalid syntax\n"
     ]
    }
   ],
   "source": [
    "# 함수 선언\n",
    "def moon_beauty():\n",
    "    return 3\n",
    "\n",
    "def moon_beauty2(a):  # parameter - 함수 선언할때 함수에 정의된 값들\n",
    "    return 3 + a\n",
    "\n",
    "\n",
    "# 함수 사용\n",
    "moon_beauty2(5)        # argument - 함수 호출시 사용되는 값들\n",
    "\n",
    "\n",
    "def func3(a, b, c):       # 순서대로 parameter를 선언\n",
    "    return a+b+c\n",
    "\n",
    "print( func3(3, 4, 5) )           # positional 방식 : 순서 기반 함수 호출\n",
    "print( func3(b=4, a=3, c= 5))     # keyword 방식 : 키워드 기반 함수 호출\n",
    "print( func3(3, b=4, c=5))      # 순서와 키워드 방식 혼용 함수 호출\n",
    "#print( func3(a=3, 4, c=5))      # 키워드 방식 뒤에는 순서방식을 사용할 수는 없음\n",
    "\n",
    "\n",
    "# parameter에 default값 설정\n",
    "def f1(a, b, c=5):\n",
    "    return a+b+c\n",
    "\n",
    "f1(3,4)                        # 함수 정의시 c값을 default값을 주었으므로 필수 argument는 2개로 가능\n",
    "\n",
    "# 함수 정의시 default parameter를 설정한 이후의 parameter도 반디시 default값을 설정 해야함\n",
    "#def f2(a=1, b):            \n",
    "#    return a+b\n",
    "\n",
    "\n",
    "# 함수 parameter의 마지막에 '/'를 사용하면 키워드 방식의 함수 호출이 불가능한 함수 정의임\n",
    "# python 3.8 부터 사용 가능\n",
    "#def f3(a, /):\n",
    "#    return a\n",
    "#f3(1)\n",
    "\n",
    "# 함수 parameter에 '*'를 사용하면 이후의 parameter는 모두 키워드 방식으로 함수를 호출 해야 한다는 의미 임\n",
    "#def f3(a, *, b, d):\n",
    "#    return a\n",
    "\n",
    "print(f3(1))\n",
    "#print(f3(a=1))\n",
    "\n",
    "# 함수 parameter에 '[',']'는 옵셔널 표시\n",
    "#def f4(a[, b [, c]])  \n",
    "\n",
    "# 가변 포지셔널 방식 : 함수 parameter 이름 앞에 '*'가 있으면 순서 방식(포지셔널 방식)으로만 설정 가능 (여러개 값을 설정 가능)\n",
    "def f5(*a):\n",
    "    return a\n",
    "\n",
    "print(f5(1,2,3))\n",
    "\n",
    "#  가변 키워드 방식 : 함수 parameter 이름 앞에 '**'가 있으면 키워드 방식으로만 설정 가능 (여러개의 값 설정 가능)\n",
    "def f6(**a):\n",
    "    return a\n",
    "\n",
    "print(f6(a=1, b=2,c=3))"
   ]
  },
  {
   "cell_type": "code",
   "execution_count": 8,
   "metadata": {},
   "outputs": [
    {
     "name": "stdout",
     "output_type": "stream",
     "text": [
      "3\n"
     ]
    },
    {
     "data": {
      "text/plain": [
       "3"
      ]
     },
     "execution_count": 8,
     "metadata": {},
     "output_type": "execute_result"
    }
   ],
   "source": [
    "def len2(x):\n",
    "    c = 0\n",
    "    for i in x:\n",
    "        c += 1\n",
    "    else:\n",
    "        print(c)\n",
    "    return c\n",
    "\n",
    "len2('abc')"
   ]
  },
  {
   "cell_type": "code",
   "execution_count": null,
   "metadata": {},
   "outputs": [],
   "source": [
    "len"
   ]
  },
  {
   "cell_type": "code",
   "execution_count": null,
   "metadata": {},
   "outputs": [],
   "source": []
  }
 ],
 "metadata": {
  "kernelspec": {
   "display_name": "Python 3",
   "language": "python",
   "name": "python3"
  },
  "language_info": {
   "codemirror_mode": {
    "name": "ipython",
    "version": 3
   },
   "file_extension": ".py",
   "mimetype": "text/x-python",
   "name": "python",
   "nbconvert_exporter": "python",
   "pygments_lexer": "ipython3",
   "version": "3.7.6"
  }
 },
 "nbformat": 4,
 "nbformat_minor": 4
}
