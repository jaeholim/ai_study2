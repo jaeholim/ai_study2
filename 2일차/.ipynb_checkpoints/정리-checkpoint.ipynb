{
 "cells": [
  {
   "cell_type": "markdown",
   "metadata": {},
   "source": [
    "타입을 구분하는 방법\n",
    "\n",
    "1. atomic <br/>\n",
    "쪼개질 수 없는 데이터 <br/>\n",
    "type) **int, float, complex, bool**\n",
    "\n",
    "2. container or collection <br/>\n",
    "element로 쪼개질 수 있는 데이터\n",
    "    - sequence <br/>\n",
    "    순서가 중요한 container/collection\n",
    "        - homegeneous <br/>\n",
    "        하나의 데이터 타입만 저장 가능<br/>\n",
    "        type) **str, bytes, bytesarray**\n",
    "        - heterogeneous\n",
    "        여러개의 데이터 타입을 저장 가능<br/>\n",
    "        type) **list, tuple, set, frozenset, dictionary**\n",
    "    - \n",
    "3. 데이터의 변경 여부\n",
    "    - mutable <br/>\n",
    "    \n",
    "    - immutable <br/>\n",
    "    \n",
    "   \n",
    "pep\n",
    "- pep 8 : python code의 style 가이드\n",
    "    - 여러명이 같이 일할때 의사소통을 명확히 하기 위해서 필요\n",
    "    - 핵심"
   ]
  },
  {
   "cell_type": "code",
   "execution_count": null,
   "metadata": {},
   "outputs": [],
   "source": []
  }
 ],
 "metadata": {
  "kernelspec": {
   "display_name": "Python 3",
   "language": "python",
   "name": "python3"
  },
  "language_info": {
   "codemirror_mode": {
    "name": "ipython",
    "version": 3
   },
   "file_extension": ".py",
   "mimetype": "text/x-python",
   "name": "python",
   "nbconvert_exporter": "python",
   "pygments_lexer": "ipython3",
   "version": "3.7.6"
  }
 },
 "nbformat": 4,
 "nbformat_minor": 4
}
