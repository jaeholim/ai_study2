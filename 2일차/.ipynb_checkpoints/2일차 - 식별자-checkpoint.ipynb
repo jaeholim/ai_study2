{
 "cells": [
  {
   "cell_type": "markdown",
   "metadata": {},
   "source": [
    "# 식별자 (or name)\n",
    "- 순수한 객체지향 언어 이기 때문에 변수라고 하지 않고 식별자(이름) 이라고 함\n",
    "- 이름(식별자) 규칙이 중요함\n",
    "    - 이름을 모두 대문자로 쓰면 \"상수\" 처럼 사용하겠다고 명시 하는 것임\n",
    "- name을 붙이는 방법 (할당/바인딩 하는 방법)\n",
    "    - a = 1\n",
    "    - a = b = c = [1,2,]  # multiple 할당을 할때는 mutable이나 immutable이냐가 중요 (mutable을 변경하면 할당된 모든 name의 값이 같이 바뀜)\n",
    "    - a, b = 1, 2  # unpacking 기법 할당 시에는 개수를 맞춰야 함\n",
    "    - a, *b, c = 1,2,3,4,5,6,               # unpacking 기법 할당시에 \"*\"을 붙이면 정확한 것을 할당하고 나머지를 '*'가 붙은 변수에 할당 함\n",
    "    - a += 1 or a -= 1   # 증감 할당, 반드시 기존에 있는 name을 사용해야 함\n",
    "    - global, nonlocal 할당\n",
    "    - ++a # \"++\" 연산은 허용되지 않으나 name 앞에 있는 경우에는 부호(+, -)를 나타냄\n",
    "- 이름 규칙\n",
    "    - snake\n",
    "        - 두단어를 \"_\" 를 이용하여 붙임\n",
    "        - function 이름\n",
    "        - 일반적인 변수 (variable) 이름\n",
    "        - module  이름\n",
    "    - camel ( capsword / pascal 을 포함)\n",
    "        - ex) moonBeauty, MoonBeauty\n",
    "\n",
    "- python은 상수(재할당 되지 않는 name)의 개념은 없음\n",
    "\n",
    "\n",
    "# 식 = 표현식(expression)\n",
    "- 하나의 결과 값으로 표현 \n",
    "- name에 할당할때 우변에 올 수 있음 <br/>\n",
    "(ex. [name] = [expression])"
   ]
  },
  {
   "cell_type": "code",
   "execution_count": 62,
   "metadata": {},
   "outputs": [
    {
     "name": "stdout",
     "output_type": "stream",
     "text": [
      "2.0\n"
     ]
    }
   ],
   "source": [
    "# 표현식\n",
    "a = 1 # \"1\" 도  표현식으로 표현 가능\n",
    "a = 3 + 4  # \"3 + 4\" 가 표현식임\n",
    "a = (((3+4)/7)+1)   # \"(((3+4)/7)+1)\" 가 표현식임\n",
    "print(a)"
   ]
  },
  {
   "cell_type": "code",
   "execution_count": 57,
   "metadata": {},
   "outputs": [
    {
     "name": "stdout",
     "output_type": "stream",
     "text": [
      "{3}\n",
      "{1, 2, 3, 4}\n",
      "{1, 2}\n",
      "{1, 2, 4}\n",
      "False\n"
     ]
    }
   ],
   "source": [
    "# 집합 연산자\n",
    "# 교집합\n",
    "print({1,2,3,} & {3,4,})\n",
    "# 합집합\n",
    "print({1,2,3,} | {3,4,})\n",
    "# 차집합\n",
    "print({1,2,3,} - {3,4,})\n",
    "# \n",
    "print({1,2,3,} ^ {3,4,})\n",
    "\n",
    "\n",
    "print({1,2,3,} < {3,4,})"
   ]
  },
  {
   "cell_type": "code",
   "execution_count": 56,
   "metadata": {},
   "outputs": [
    {
     "name": "stdout",
     "output_type": "stream",
     "text": [
      "[1, 2, 3, 3, 4, 5]\n",
      "[1, 2, 3, 1, 2, 3, 1, 2, 3]\n",
      "(1, 2, 3, 3)\n",
      "(1, 2, 3, 1, 2, 3, 1, 2, 3)\n",
      "True\n",
      "False\n"
     ]
    }
   ],
   "source": [
    "print([1, 2, 3,] + [3, 4, 5,])\n",
    "\n",
    "print([1,2,3] * 3)\n",
    "\n",
    "print((1,2,3,) + (3,))\n",
    "\n",
    "print((1,2,3,) * 3)\n",
    "\n",
    "# 비교 연산 할 수 있음\n",
    "print([1,2,3,] < [3,4])\n",
    "print((1,2,3,) < (-1,4,))"
   ]
  },
  {
   "cell_type": "code",
   "execution_count": 40,
   "metadata": {},
   "outputs": [
    {
     "data": {
      "text/plain": [
       "1"
      ]
     },
     "execution_count": 40,
     "metadata": {},
     "output_type": "execute_result"
    }
   ],
   "source": [
    "a = 1\n",
    "--a"
   ]
  },
  {
   "cell_type": "code",
   "execution_count": 38,
   "metadata": {},
   "outputs": [
    {
     "ename": "SyntaxError",
     "evalue": "starred assignment target must be in a list or tuple (<ipython-input-38-2bc8667142fa>, line 4)",
     "output_type": "error",
     "traceback": [
      "\u001b[1;36m  File \u001b[1;32m\"<ipython-input-38-2bc8667142fa>\"\u001b[1;36m, line \u001b[1;32m4\u001b[0m\n\u001b[1;31mSyntaxError\u001b[0m\u001b[1;31m:\u001b[0m starred assignment target must be in a list or tuple\n"
     ]
    }
   ],
   "source": [
    "*x = 1,2,3"
   ]
  },
  {
   "cell_type": "code",
   "execution_count": 37,
   "metadata": {},
   "outputs": [
    {
     "name": "stdout",
     "output_type": "stream",
     "text": [
      "1\n",
      "[2, 3, 4]\n",
      "[1, 2, 3]\n",
      "4\n",
      "1\n",
      "[2, 3, 4]\n",
      "5\n",
      "[1, 2, 3, 4]\n"
     ]
    }
   ],
   "source": [
    "a, *b = 1,2,3,4\n",
    "print(a)\n",
    "print(b)\n",
    "*c, d = 1,2,3,4\n",
    "print(c)\n",
    "print(d)\n",
    "x, *y, z = 1,2,3,4,5,\n",
    "print(x)\n",
    "print(y)\n",
    "print(z)\n",
    "*x, = 1,2,3,4\n",
    "print(x)"
   ]
  },
  {
   "cell_type": "code",
   "execution_count": 28,
   "metadata": {},
   "outputs": [
    {
     "data": {
      "text/plain": [
       "(1, 2, 3, '3')"
      ]
     },
     "execution_count": 28,
     "metadata": {},
     "output_type": "execute_result"
    }
   ],
   "source": [
    "a = 1,2,3,'3',\n",
    "a"
   ]
  },
  {
   "cell_type": "code",
   "execution_count": 23,
   "metadata": {},
   "outputs": [
    {
     "data": {
      "text/plain": [
       "[1, 2, 3]"
      ]
     },
     "execution_count": 23,
     "metadata": {},
     "output_type": "execute_result"
    }
   ],
   "source": [
    "a = b = [1,2]\n",
    "b.append(3)\n",
    "b\n",
    "a"
   ]
  },
  {
   "cell_type": "code",
   "execution_count": 21,
   "metadata": {},
   "outputs": [
    {
     "data": {
      "text/plain": [
       "3"
      ]
     },
     "execution_count": 21,
     "metadata": {},
     "output_type": "execute_result"
    }
   ],
   "source": [
    "a = 20090304\n",
    "a//100%100"
   ]
  },
  {
   "cell_type": "code",
   "execution_count": 17,
   "metadata": {},
   "outputs": [
    {
     "data": {
      "text/plain": [
       "81507400"
      ]
     },
     "execution_count": 17,
     "metadata": {},
     "output_type": "execute_result"
    }
   ],
   "source": [
    "x = (1,2,3)\n",
    "# 메모리 주소 값을 표시\n",
    "id(x)\n",
    "x = (1,2)\n",
    "id(x)"
   ]
  },
  {
   "cell_type": "code",
   "execution_count": 7,
   "metadata": {},
   "outputs": [],
   "source": [
    "a = [1,3,4,]\n",
    "a\n",
    "b = 's'"
   ]
  },
  {
   "cell_type": "code",
   "execution_count": 19,
   "metadata": {},
   "outputs": [
    {
     "name": "stdout",
     "output_type": "stream",
     "text": [
      "Variable   Type     Data/Info\n",
      "-----------------------------\n",
      "a          int      1\n",
      "x          tuple    n=2\n"
     ]
    }
   ],
   "source": [
    "%whos"
   ]
  },
  {
   "cell_type": "code",
   "execution_count": 10,
   "metadata": {},
   "outputs": [],
   "source": [
    "# 메모리 상에 있는 데이터를 지우는 함수\n",
    "del b"
   ]
  },
  {
   "cell_type": "code",
   "execution_count": 12,
   "metadata": {},
   "outputs": [
    {
     "data": {
      "text/plain": [
       "[1, 3, 4]"
      ]
     },
     "execution_count": 12,
     "metadata": {},
     "output_type": "execute_result"
    }
   ],
   "source": [
    "a"
   ]
  }
 ],
 "metadata": {
  "kernelspec": {
   "display_name": "Python 3",
   "language": "python",
   "name": "python3"
  },
  "language_info": {
   "codemirror_mode": {
    "name": "ipython",
    "version": 3
   },
   "file_extension": ".py",
   "mimetype": "text/x-python",
   "name": "python",
   "nbconvert_exporter": "python",
   "pygments_lexer": "ipython3",
   "version": "3.7.6"
  }
 },
 "nbformat": 4,
 "nbformat_minor": 4
}
