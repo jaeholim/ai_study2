{
 "cells": [
  {
   "cell_type": "markdown",
   "metadata": {},
   "source": [
    "문법 (키워드, 식, 문)\n",
    "# interning 기법 (찾아봐야 함 - ???)\n",
    "- immutable 객체에 대해서 이미 생성된 객체를 재사용 하는 기법\n",
    "- 메모리 공간 사용을 줄이기 위한 기법\n",
    "- int 객체는 -5 ~ 256까지 interning으로 처리\n",
    "\n",
    "\n",
    "# predicate \n",
    "- True, False를 반환해주는 식\n",
    "\n",
    "# 키워드\n",
    "- \n",
    "\n",
    "## 비교\n",
    "- 산술 비교 : ==, !=, <, >, <=, >=, is(값과 메모리 번지를 모두 비교)\n",
    "- \n",
    "\n",
    "## 조건문 (flow control)\n",
    "- python은 참/거짓을 존재론적인 관점으로 봄\n",
    "- truey(참처럼 간주 하는것) falsy(거짓처럼 간주 하는것)\n",
    "\n",
    "# 값을 만드는 방법\n",
    "- literal\n",
    "- object instance\n",
    "- factory method ...\n",
    "\n",
    "# dictionaly view\n",
    "- 원본은 그대로이고 3가지의 형태로 값을 반환 해줌\n",
    "- dict.keys(), dict.values(), dict.items() --> tuple로 key와 value를 반환\n",
    "\n",
    "# dictionaly의 key\n",
    "- hashable : 모든 데이터가 immutable로 이루어진 object를 사용할 수 있음 "
   ]
  },
  {
   "cell_type": "code",
   "execution_count": 85,
   "metadata": {},
   "outputs": [
    {
     "name": "stdout",
     "output_type": "stream",
     "text": [
      "True\n",
      "True\n",
      "True\n",
      "True\n",
      "------------------\n",
      "False\n",
      "참\n",
      "------------------\n",
      "False\n",
      "{'a': 5, 'b': 4}\n",
      "dict_items([('a', 5), ('b', 4)])\n",
      "{(1, 2, 3): '1'}\n",
      "True\n"
     ]
    }
   ],
   "source": [
    "print(3 in [1,2,3,])  # predicate : True, False를 반환해주는 식\n",
    "print(3 in (1,2,3,))\n",
    "print(3 in {1,2,3,})\n",
    "print('3' in \"123\")   # 문자열은 homegeneous 형식이기 때문에 in 사용시 같은 타입으로만 체크 가능 함\n",
    "\n",
    "print('------------------')\n",
    "\n",
    "print('3' not in \"123\") \n",
    "x = 1\n",
    "if x is not None:\n",
    "    print('참')\n",
    "else:\n",
    "    print('거짓')\n",
    "    \n",
    "print('------------------')\n",
    "\n",
    "print(3 in {'a':3, 'b':4})    # dictionaly는 key가 중요하기 때문에 key 만가지고 in을 판단\n",
    "print({'a':3, 'b':4, 'a':5})   # dict도 중복이 없고 왼쪽에서 오른쪽으로 가기 때문 'a'키의 값이 5로 재할당 됨 \n",
    "                               # python 3.7 이전에는 dict의 key가 순서가 없었으나 3.7 이후 부터는 dict의 key는 순서가 있음\n",
    "                                # dict의 key에는 hashable(모든 데이터 구조가 immutable인 object)\n",
    "print({'a':3, 'b':4, 'a':5}.items())\n",
    "print({(1,2,3):'1'})       # dict의 key에는 hashable(모든 데이터 구조가 immutable인 object)\n",
    "print('b' in {'a':3, 'b':4})"
   ]
  },
  {
   "cell_type": "code",
   "execution_count": null,
   "metadata": {},
   "outputs": [],
   "source": []
  },
  {
   "cell_type": "code",
   "execution_count": 73,
   "metadata": {},
   "outputs": [
    {
     "name": "stdout",
     "output_type": "stream",
     "text": [
      "Membership test operations\n",
      "**************************\n",
      "\n",
      "The operators \"in\" and \"not in\" test for membership.  \"x in s\"\n",
      "evaluates to \"True\" if *x* is a member of *s*, and \"False\" otherwise.\n",
      "\"x not in s\" returns the negation of \"x in s\".  All built-in sequences\n",
      "and set types support this as well as dictionary, for which \"in\" tests\n",
      "whether the dictionary has a given key. For container types such as\n",
      "list, tuple, set, frozenset, dict, or collections.deque, the\n",
      "expression \"x in y\" is equivalent to \"any(x is e or x == e for e in\n",
      "y)\".\n",
      "\n",
      "For the string and bytes types, \"x in y\" is \"True\" if and only if *x*\n",
      "is a substring of *y*.  An equivalent test is \"y.find(x) != -1\".\n",
      "Empty strings are always considered to be a substring of any other\n",
      "string, so \"\"\" in \"abc\"\" will return \"True\".\n",
      "\n",
      "For user-defined classes which define the \"__contains__()\" method, \"x\n",
      "in y\" returns \"True\" if \"y.__contains__(x)\" returns a true value, and\n",
      "\"False\" otherwise.\n",
      "\n",
      "For user-defined classes which do not define \"__contains__()\" but do\n",
      "define \"__iter__()\", \"x in y\" is \"True\" if some value \"z\", for which\n",
      "the expression \"x is z or x == z\" is true, is produced while iterating\n",
      "over \"y\". If an exception is raised during the iteration, it is as if\n",
      "\"in\" raised that exception.\n",
      "\n",
      "Lastly, the old-style iteration protocol is tried: if a class defines\n",
      "\"__getitem__()\", \"x in y\" is \"True\" if and only if there is a non-\n",
      "negative integer index *i* such that \"x is y[i] or x == y[i]\", and no\n",
      "lower integer index raises the \"IndexError\" exception.  (If any other\n",
      "exception is raised, it is as if \"in\" raised that exception).\n",
      "\n",
      "The operator \"not in\" is defined to have the inverse truth value of\n",
      "\"in\".\n",
      "\n",
      "Related help topics: SEQUENCEMETHODS\n",
      "\n",
      "Boolean operations\n",
      "******************\n",
      "\n",
      "   or_test  ::= and_test | or_test \"or\" and_test\n",
      "   and_test ::= not_test | and_test \"and\" not_test\n",
      "   not_test ::= comparison | \"not\" not_test\n",
      "\n",
      "In the context of Boolean operations, and also when expressions are\n",
      "used by control flow statements, the following values are interpreted\n",
      "as false: \"False\", \"None\", numeric zero of all types, and empty\n",
      "strings and containers (including strings, tuples, lists,\n",
      "dictionaries, sets and frozensets).  All other values are interpreted\n",
      "as true.  User-defined objects can customize their truth value by\n",
      "providing a \"__bool__()\" method.\n",
      "\n",
      "The operator \"not\" yields \"True\" if its argument is false, \"False\"\n",
      "otherwise.\n",
      "\n",
      "The expression \"x and y\" first evaluates *x*; if *x* is false, its\n",
      "value is returned; otherwise, *y* is evaluated and the resulting value\n",
      "is returned.\n",
      "\n",
      "The expression \"x or y\" first evaluates *x*; if *x* is true, its value\n",
      "is returned; otherwise, *y* is evaluated and the resulting value is\n",
      "returned.\n",
      "\n",
      "Note that neither \"and\" nor \"or\" restrict the value and type they\n",
      "return to \"False\" and \"True\", but rather return the last evaluated\n",
      "argument.  This is sometimes useful, e.g., if \"s\" is a string that\n",
      "should be replaced by a default value if it is empty, the expression\n",
      "\"s or 'foo'\" yields the desired value.  Because \"not\" has to create a\n",
      "new value, it returns a boolean value regardless of the type of its\n",
      "argument (for example, \"not 'foo'\" produces \"False\" rather than \"''\".)\n",
      "\n",
      "Related help topics: EXPRESSIONS, TRUTHVALUE\n",
      "\n"
     ]
    }
   ],
   "source": [
    "help('in')\n",
    "help('and')"
   ]
  },
  {
   "cell_type": "code",
   "execution_count": 68,
   "metadata": {},
   "outputs": [
    {
     "name": "stdout",
     "output_type": "stream",
     "text": [
      "<class 'dict'>\n",
      "<class 'set'>\n",
      "거짓\n",
      "거짓\n"
     ]
    }
   ],
   "source": [
    "# {} --> 공집합(set)이 아니고 dict인 이유 : 초기 버전에는 set이 없었기 때문에 {}는 dictionaly 임\n",
    "print(type({}))\n",
    "\n",
    "# 리터럴 방식으로는 빈 set(공집합)을 만들 수 없어 object instance 방식으로 생성 가능\n",
    "x = set()\n",
    "print(type(x))\n",
    "\n",
    "if set():     ## 존재론적 관점에서 set이 비어 있기 때문에 false임\n",
    "    print('참')\n",
    "else:\n",
    "    print('거짓')\n",
    "    \n",
    "if int():     ## 존재론적 관점에서 set이 비어 있기 때문에 false임\n",
    "    print('참')\n",
    "else:\n",
    "    print('거짓')\n",
    "    "
   ]
  },
  {
   "cell_type": "code",
   "execution_count": 61,
   "metadata": {},
   "outputs": [
    {
     "name": "stdout",
     "output_type": "stream",
     "text": [
      "4\n",
      "None\n",
      "5\n",
      "[]\n",
      "----------\n",
      "3\n",
      "4\n",
      "3\n",
      "5\n",
      "======\n",
      "[]\n",
      "None\n"
     ]
    }
   ],
   "source": [
    "# and : true, false 여부를 따져서 앞에 있는 식이 true이면 and 뒤의 값을 반환, false 이면 앞에 있는 값 반환\n",
    "# or : rue, false 여부를 따져서 앞에 있는 식이 true이면 or 앞의 값을 반환, false 이면 앞에 있는 뒤 반환\n",
    "\n",
    "print(3 and 4)  # --> true : 4 (뒤)\n",
    "print(None and 4)  # --> false : None (앞)\n",
    "print(3 and 4 and 5) # --> true : 5 (뒤)\n",
    "print([] and None and 5) # --> false : [] (앞 - 첫번째 and)\n",
    "print('----------')\n",
    "print(3 or 4) # --> true : 3(앞)\n",
    "print(None or 4) # --> false : 4 (뒤)\n",
    "print(3 or 4 or 5) # --> true : 3 (앞)\n",
    "print(None or None or 5) # --> false : 5 (뒤)\n",
    "\n",
    "\n",
    "\n",
    "print('======')\n",
    "print([] and '')\n",
    "print([] and '' or 3 and None)  \n",
    "# 1단계 : [] or 3 and None\n",
    "# 2단계 : 3 and None\n",
    "# 3단계 : None"
   ]
  },
  {
   "cell_type": "code",
   "execution_count": 44,
   "metadata": {},
   "outputs": [
    {
     "name": "stdout",
     "output_type": "stream",
     "text": [
      "1\n",
      "9\n"
     ]
    }
   ],
   "source": [
    "# 3항 연산자, 조건식 (조건 문이 아니라 하나로 될 수 있기 때문에 조건식이라 부름)\n",
    "x = input()\n",
    "y = 3 if x > '2' else 5 if x > '1' else 9 if x > '0' else 10\n",
    "print(y)\n"
   ]
  },
  {
   "cell_type": "code",
   "execution_count": 25,
   "metadata": {},
   "outputs": [
    {
     "name": "stdout",
     "output_type": "stream",
     "text": [
      "8자를 입력하세요20080804\n",
      "당신의 생일은 2008\n",
      "당신의 태어난 달은 08\n",
      "\n"
     ]
    }
   ],
   "source": [
    "text = '8자를 입력하세요'\n",
    "x = input(text)\n",
    "\n",
    "if len(x) == 8:\n",
    "    # pass  ## pass 이고 나중에 코딩 하겠다는 의미, 구조상 에러가 나지 않게 하기 위해 사용\n",
    "    print('당신의 생일은', x[:4])\n",
    "    print('당신의 태어난 달은', x[4:6])\n",
    "elif len(x) == 4:\n",
    "    pass\n",
    "else:\n",
    "    print(text)\n",
    "    \n",
    "##### truey(참처럼 간주 하는것) falsy(거짓처럼 간주 하는것)\n",
    "## None : 아무것도 없음을 표현 하는 키워드\n",
    "print()"
   ]
  },
  {
   "cell_type": "code",
   "execution_count": 37,
   "metadata": {},
   "outputs": [
    {
     "name": "stdout",
     "output_type": "stream",
     "text": [
      "거짓\n",
      "거짓\n",
      "참\n",
      "거짓\n",
      "참\n",
      "거짓\n",
      "참\n",
      "거짓\n"
     ]
    }
   ],
   "source": [
    "if False:   # if 조건문 뒤의 '식'(하나로 축약되는 것)은 결국 True, False와 같이 하나로 축약될 수 있기 때문에 해당 구문이 의미가 있음\n",
    "    print('참')\n",
    "else:\n",
    "    print('거짓')\n",
    "    \n",
    "if None:    # None은 False가 아님에도 False처럼 취급됨 (python에서는 true, false보다 truey, falsy로 처리 됨)\n",
    "    print('참')\n",
    "else:\n",
    "    print('거짓')\n",
    "    \n",
    "\n",
    "if -3:\n",
    "    print('참')\n",
    "else:\n",
    "    print('거짓')\n",
    "    \n",
    "if 0:\n",
    "    print('참')\n",
    "else:\n",
    "    print('거짓')\n",
    "\n",
    "if '4':\n",
    "    print('참')\n",
    "else:\n",
    "    print('거짓')\n",
    "    \n",
    "if '':\n",
    "    print('참')\n",
    "else:\n",
    "    print('거짓')\n",
    "    \n",
    "if ['']:\n",
    "    print('참')\n",
    "else:\n",
    "    print('거짓')\n",
    "    \n",
    "if []:\n",
    "    print('참')\n",
    "else:\n",
    "    print('거짓')\n",
    "    "
   ]
  },
  {
   "cell_type": "code",
   "execution_count": null,
   "metadata": {},
   "outputs": [],
   "source": [
    "x = input()\n",
    "print(x)\n",
    "print(type(x))\n",
    "\n",
    "if x <'3':\n",
    "    print('a')\n",
    "else:\n",
    "    print('b')"
   ]
  },
  {
   "cell_type": "code",
   "execution_count": 15,
   "metadata": {},
   "outputs": [
    {
     "name": "stdout",
     "output_type": "stream",
     "text": [
      "이건참\n"
     ]
    }
   ],
   "source": [
    "# 조건문 (conditional statement)\n",
    "if 1 > 3:\n",
    "    print('참')\n",
    "    if 2<3:\n",
    "        print('참2')\n",
    "    else:\n",
    "        print('거짓2')\n",
    "elif 2<4:\n",
    "    print('이건참')\n",
    "else:\n",
    "    print('거짓')\n",
    "    \n",
    "    "
   ]
  },
  {
   "cell_type": "code",
   "execution_count": 5,
   "metadata": {},
   "outputs": [
    {
     "name": "stdout",
     "output_type": "stream",
     "text": [
      "35\n",
      "Variable   Type      Data/Info\n",
      "------------------------------\n",
      "keyword    module    <module 'keyword' from 'C<...>conda3\\\\lib\\\\keyword.py'>\n"
     ]
    }
   ],
   "source": [
    "import keyword\n",
    "dir(keyword)\n",
    "print(len(keyword.kwlist))\n",
    "keyword.kwlist\n",
    "%whos"
   ]
  },
  {
   "cell_type": "code",
   "execution_count": 10,
   "metadata": {},
   "outputs": [
    {
     "name": "stdout",
     "output_type": "stream",
     "text": [
      "True\n",
      "True\n",
      "False\n"
     ]
    }
   ],
   "source": [
    "# is 비교\n",
    "# interning : python이 느려서 -5 ~ 256까지 메모리를 재활용 함\n",
    "a, b = 100, 100\n",
    "print( a is b )\n",
    "c = 100\n",
    "d = 100\n",
    "print (c is d)\n",
    "e, f= 257, 257\n",
    "print (e is f)"
   ]
  },
  {
   "cell_type": "code",
   "execution_count": 26,
   "metadata": {},
   "outputs": [],
   "source": [
    "None"
   ]
  },
  {
   "cell_type": "code",
   "execution_count": 27,
   "metadata": {},
   "outputs": [
    {
     "data": {
      "text/plain": [
       "False"
      ]
     },
     "execution_count": 27,
     "metadata": {},
     "output_type": "execute_result"
    }
   ],
   "source": [
    "False is None"
   ]
  },
  {
   "cell_type": "code",
   "execution_count": null,
   "metadata": {},
   "outputs": [],
   "source": []
  }
 ],
 "metadata": {
  "kernelspec": {
   "display_name": "Python 3",
   "language": "python",
   "name": "python3"
  },
  "language_info": {
   "codemirror_mode": {
    "name": "ipython",
    "version": 3
   },
   "file_extension": ".py",
   "mimetype": "text/x-python",
   "name": "python",
   "nbconvert_exporter": "python",
   "pygments_lexer": "ipython3",
   "version": "3.7.6"
  }
 },
 "nbformat": 4,
 "nbformat_minor": 4
}
