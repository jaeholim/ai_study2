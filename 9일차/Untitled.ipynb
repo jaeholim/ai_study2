{
 "cells": [
  {
   "attachments": {},
   "cell_type": "markdown",
   "metadata": {},
   "source": [
    "# 함수형 프로그래밍 (Functional Programming - FP)\n",
    "- Declarative Programming (선언전 프로그래밍)\n",
    "    - 미리 선언해 놓고 상황에 따라 function을 호출 하여 처리 하는 방법\n",
    "- for와 while을 잘 사용하지 않음\n",
    "- 식 > 문 (문보다 식을 선호)\n",
    "- 재귀 > 루프 (루프보다 재귀를 선호 - **단 python은 재귀가 속도가 많이 느려서 loop가 더 좋음**)\n"
   ]
  },
  {
   "cell_type": "markdown",
   "metadata": {},
   "source": [
    "# 고차 함수 (high order function)\n",
    "- 함수를 인자로 받고 함수를 리턴하는 함수\n",
    "  (ex. map)\n",
    "- 함수\n",
    "  \n",
    "# 합성함수\n",
    "- 함수의 결과값을 다른함수로 전달 하는 방법\n",
    "- 함수의 값을 다른 함수로 넣음"
   ]
  },
  {
   "cell_type": "code",
   "execution_count": 8,
   "metadata": {},
   "outputs": [
    {
     "data": {
      "text/plain": [
       "[2, 3]"
      ]
     },
     "execution_count": 8,
     "metadata": {},
     "output_type": "execute_result"
    }
   ],
   "source": [
    "def x(a):\n",
    "    return a+1\n",
    "\n",
    "list(map(x, [1,2,]))"
   ]
  },
  {
   "cell_type": "code",
   "execution_count": null,
   "metadata": {},
   "outputs": [],
   "source": []
  }
 ],
 "metadata": {
  "kernelspec": {
   "display_name": "Python 3",
   "language": "python",
   "name": "python3"
  },
  "language_info": {
   "codemirror_mode": {
    "name": "ipython",
    "version": 3
   },
   "file_extension": ".py",
   "mimetype": "text/x-python",
   "name": "python",
   "nbconvert_exporter": "python",
   "pygments_lexer": "ipython3",
   "version": "3.7.6"
  }
 },
 "nbformat": 4,
 "nbformat_minor": 4
}
