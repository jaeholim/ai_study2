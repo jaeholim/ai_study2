{
 "cells": [
  {
   "cell_type": "markdown",
   "metadata": {},
   "source": [
    "# 함수형 프로그래밍 1\n",
    "- 이론과 밀접한 경우에는 함수형 프로그래밍 하는 경우가 많음(ex. 딥러닝, 텐서플로우)\n",
    "- 특징\n",
    "    - 형식적인 증면 가능\n",
    "    - 모듈화\n",
    "    - 결합성\n",
    "    - 디버깅과 테스트 용이성\n",
    " - 값을 여러개 동시에 처리 하는 형태로 프로그래밍됨\n",
    " - 여러개의 값을 식과 합성함수를 이용하여 원하는 결과값을 얻는 방식\n",
    " - \n",
    " \n",
    " # Comprehension\n",
    " - list\n",
    " - set\n",
    " - dictionary\n",
    " \n",
    " # Genrator\n",
    " - generator 표현식 : tuple comprehension으로 만듬\n",
    " - generator 함수 : yield로 만듬"
   ]
  },
  {
   "cell_type": "code",
   "execution_count": 2,
   "metadata": {},
   "outputs": [
    {
     "data": {
      "text/plain": [
       "[2, 3, 4, 5]"
      ]
     },
     "execution_count": 2,
     "metadata": {},
     "output_type": "execute_result"
    }
   ],
   "source": [
    "# 여러개의 값을 식과 합성함수를 이용하여 원하는 결과값을 얻는 방식\n",
    "#  - 내부적으로는 값을 하나씩 처리 함\n",
    "#  - 내부적으로 iterator 방식으로 처리 됨 (iterator : next를 이용하여 값을 가져올 수 있음)\n",
    "list(map(lambda x : x+1, [1,2,3,4,]))\n"
   ]
  },
  {
   "cell_type": "code",
   "execution_count": 10,
   "metadata": {},
   "outputs": [
    {
     "name": "stdout",
     "output_type": "stream",
     "text": [
      "[5, 6, 7, 8, 9, 10]\n",
      "[1, 2, 3, 4, 5, 6, 7, 8, 9, 10]\n",
      "['0', '1', '2', '3', '4', '5', '6', '7', '8', '9']\n",
      "[0, 1, 2, 3, 4, 5, '6', '7', '8', '9']\n",
      "['0', '2', '4', '6', '8']\n"
     ]
    }
   ],
   "source": [
    "# 한꺼번에 값을 만드는 방법\n",
    "#   * comprehension (aks comp) : for문에 비해서 속도도 빠르고 간결해서 python에서 많이 사용\n",
    "x = [x for x in range(5, 11)]\n",
    "print(x)\n",
    "x = [x+1 for x in range(10)]\n",
    "print(x)\n",
    "x = [str(x) for x in range(10)]\n",
    "print(x)\n",
    "x = [str(x) if x > 5 else x for x in range(10)]\n",
    "print(x)\n",
    "x = [str(x) for x in range(10) if x%2==0 ]\n",
    "print(x)"
   ]
  },
  {
   "cell_type": "code",
   "execution_count": 24,
   "metadata": {},
   "outputs": [
    {
     "name": "stdout",
     "output_type": "stream",
     "text": [
      "[0, 1, 2, 3, 4, 5, 6, 7, 8, 9]\n",
      "{0, 1, 2, 3, 4, 5, 6, 7, 8, 9}\n",
      "{0: 0, 1: 1, 2: 2, 3: 3, 4: 4, 5: 5, 6: 6, 7: 7, 8: 8, 9: 9}\n",
      "<generator object <genexpr> at 0x0000000004EBA2C8>\n",
      "['__class__', '__del__', '__delattr__', '__dir__', '__doc__', '__eq__', '__format__', '__ge__', '__getattribute__', '__gt__', '__hash__', '__init__', '__init_subclass__', '__iter__', '__le__', '__lt__', '__name__', '__ne__', '__new__', '__next__', '__qualname__', '__reduce__', '__reduce_ex__', '__repr__', '__setattr__', '__sizeof__', '__str__', '__subclasshook__', 'close', 'gi_code', 'gi_frame', 'gi_running', 'gi_yieldfrom', 'send', 'throw']\n",
      "The \"yield\" statement\n",
      "*********************\n",
      "\n",
      "   yield_stmt ::= yield_expression\n",
      "\n",
      "A \"yield\" statement is semantically equivalent to a yield expression.\n",
      "The yield statement can be used to omit the parentheses that would\n",
      "otherwise be required in the equivalent yield expression statement.\n",
      "For example, the yield statements\n",
      "\n",
      "   yield <expr>\n",
      "   yield from <expr>\n",
      "\n",
      "are equivalent to the yield expression statements\n",
      "\n",
      "   (yield <expr>)\n",
      "   (yield from <expr>)\n",
      "\n",
      "Yield expressions and statements are only used when defining a\n",
      "*generator* function, and are only used in the body of the generator\n",
      "function.  Using yield in a function definition is sufficient to cause\n",
      "that definition to create a generator function instead of a normal\n",
      "function.\n",
      "\n",
      "For full details of \"yield\" semantics, refer to the Yield expressions\n",
      "section.\n",
      "\n",
      "1\n",
      "2\n",
      "3\n",
      "0\n",
      "1\n",
      "2\n",
      "3\n",
      "4\n"
     ]
    }
   ],
   "source": [
    "# list comprehesion  \n",
    "x = [x for x in range(10)]\n",
    "print(x)\n",
    "# set comprehension\n",
    "x = {x for x in range(10)}\n",
    "print(x)\n",
    "# dictionary comprehension\n",
    "x = {x:x for x in range(10)}\n",
    "print(x)\n",
    "\n",
    "# generator 표현식 - tuple comprehension\n",
    "x = (x for x in range(10))\n",
    "print(x)                  # iterator와 generator는 만드는 방법에만 차이가 있을뿐 내부적으로는 동일 함\n",
    "print(dir(x))            # __next__ dunder를 가지고 있음, iterator와 유사\n",
    "\n",
    "# generator 함수 - yield 사용\n",
    "def x():\n",
    "    yield 1\n",
    "    yield 2\n",
    "    yield 3\n",
    "\n",
    "def y():\n",
    "    yield from range(10)    # yield from으로 단축 표현으로 줄일 수 있음\n",
    "    \n",
    "help('yield')\n",
    "a = x()             # 함수를 이용해여 generator를 만들기 위해 x 함수를 호출 해줌\n",
    "print(next(a))\n",
    "print(next(a))\n",
    "print(next(a))\n",
    "print('=======================')\n",
    "\n",
    "b = y()             \n",
    "print(next(b))\n",
    "print(next(b))\n",
    "print(next(b))\n",
    "print(next(b))\n",
    "print(next(b))"
   ]
  },
  {
   "cell_type": "code",
   "execution_count": 17,
   "metadata": {},
   "outputs": [
    {
     "name": "stderr",
     "output_type": "stream",
     "text": [
      "UsageError: Line magic function `%%timeit` not found.\n"
     ]
    }
   ],
   "source": [
    "%%timeit\n",
    "temp = list()\n",
    "for i in range(10):\n",
    "    temp.append(i)\n",
    "    \n",
    "%%timeit\n",
    "[x for x in range(10)]\n"
   ]
  },
  {
   "cell_type": "code",
   "execution_count": 3,
   "metadata": {},
   "outputs": [
    {
     "name": "stdout",
     "output_type": "stream",
     "text": [
      "  2           0 SETUP_LOOP              24 (to 26)\n",
      "              2 LOAD_GLOBAL              0 (p)\n",
      "              4 LOAD_CONST               1 ((1, 2, 3, 4))\n",
      "              6 BINARY_SUBSCR\n",
      "              8 GET_ITER\n",
      "        >>   10 FOR_ITER                12 (to 24)\n",
      "             12 STORE_FAST               0 (i)\n",
      "\n",
      "  3          14 LOAD_GLOBAL              1 (print)\n",
      "             16 LOAD_FAST                0 (i)\n",
      "             18 CALL_FUNCTION            1\n",
      "             20 POP_TOP\n",
      "             22 JUMP_ABSOLUTE           10\n",
      "        >>   24 POP_BLOCK\n",
      "        >>   26 LOAD_CONST               0 (None)\n",
      "             28 RETURN_VALUE\n"
     ]
    }
   ],
   "source": [
    "def x():\n",
    "    for i in p[1,2,3,4,]:\n",
    "        print(i)\n",
    "import dis\n",
    "dis.dis(x)                     # disassable한다, 8에 GET_ITER로 Iterator를 가져옴"
   ]
  },
  {
   "cell_type": "code",
   "execution_count": null,
   "metadata": {},
   "outputs": [],
   "source": [
    "list('abcd')"
   ]
  }
 ],
 "metadata": {
  "kernelspec": {
   "display_name": "Python 3",
   "language": "python",
   "name": "python3"
  },
  "language_info": {
   "codemirror_mode": {
    "name": "ipython",
    "version": 3
   },
   "file_extension": ".py",
   "mimetype": "text/x-python",
   "name": "python",
   "nbconvert_exporter": "python",
   "pygments_lexer": "ipython3",
   "version": "3.7.6"
  }
 },
 "nbformat": 4,
 "nbformat_minor": 4
}
