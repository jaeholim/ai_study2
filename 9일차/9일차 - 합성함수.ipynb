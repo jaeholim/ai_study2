{
 "cells": [
  {
   "cell_type": "markdown",
   "metadata": {},
   "source": [
    "# 함수형 프로그래밍 2\n",
    "- 이론과 밀접한 경우에는 함수형 프로그래밍 하는 경우가 많음(ex. 딥러닝, 텐서플로우)\n",
    "- 특징\n",
    "    - 형식적인 증면 가능\n",
    "    - 모듈화\n",
    "    - 결합성\n",
    "    - 디버깅과 테스트 용이성\n",
    " - 값을 여러개 동시에 처리 하는 형태로 프로그래밍됨\n",
    " - 여러개의 값을 식과 합성함수를 이용하여 원하는 결과값을 얻는 방식\n",
    "\n",
    "# 합성 함수\n",
    "## 재귀 함수\n",
    "- python은 재귀함수 속도가 많이 느림, 또한 메모리도 많이 먹음\n",
    "\n",
    "## "
   ]
  },
  {
   "cell_type": "code",
   "execution_count": 48,
   "metadata": {},
   "outputs": [
    {
     "name": "stdout",
     "output_type": "stream",
     "text": [
      "a\n",
      "b\n",
      "c\n",
      "a\n",
      "b\n",
      "c\n",
      "a\n"
     ]
    }
   ],
   "source": [
    "from itertools import cycle\n",
    "d = cycle('abc')\n",
    "print(next(d))\n",
    "print(next(d))\n",
    "print(next(d))\n",
    "print(next(d))\n",
    "print(next(d))\n",
    "print(next(d))\n",
    "print(next(d))\n"
   ]
  },
  {
   "cell_type": "code",
   "execution_count": 53,
   "metadata": {},
   "outputs": [
    {
     "name": "stdout",
     "output_type": "stream",
     "text": [
      "0\n",
      "1\n",
      "2\n",
      "3\n",
      "4\n",
      "5\n"
     ]
    }
   ],
   "source": [
    "from itertools import cycle, count\n",
    "d = count()\n",
    "print(next(d))\n",
    "print(next(d))\n",
    "print(next(d))\n",
    "print(next(d))\n",
    "print(next(d))\n",
    "print(next(d))"
   ]
  },
  {
   "cell_type": "code",
   "execution_count": 56,
   "metadata": {},
   "outputs": [
    {
     "name": "stdout",
     "output_type": "stream",
     "text": [
      "7\n",
      "35\n"
     ]
    }
   ],
   "source": [
    "from operator import add, mul\n",
    "print(add(3,4))\n",
    "print(mul(add(3,4), 5))"
   ]
  },
  {
   "cell_type": "code",
   "execution_count": 41,
   "metadata": {},
   "outputs": [
    {
     "name": "stdout",
     "output_type": "stream",
     "text": [
      "21\n",
      "21\n"
     ]
    }
   ],
   "source": [
    "# 재귀 함수\n",
    "# 피보나치 : 1 1 2 3 4 7 11 \n",
    "def x(a):\n",
    "    if a == 1 or a == 2:\n",
    "        return 1\n",
    "    return x(a-2)+x(a-1)\n",
    "\n",
    "print(x(8))\n",
    "\n",
    "# 피보나치 : 다이나믹 프로그래밍\n",
    "def x(n):\n",
    "    a, b, i = 0, 1, 0\n",
    "    while i < n:\n",
    "        a, b = b, a+b\n",
    "        i += 1\n",
    "    return a\n",
    "print(x(8))"
   ]
  },
  {
   "cell_type": "code",
   "execution_count": 24,
   "metadata": {},
   "outputs": [
    {
     "data": {
      "text/plain": [
       "9"
      ]
     },
     "execution_count": 24,
     "metadata": {},
     "output_type": "execute_result"
    }
   ],
   "source": [
    "# 재귀 함수\n",
    "# 홀수 : 1 3 5 7 9 11 13 15\n",
    "def x(n):\n",
    "    if n==1:\n",
    "        return 1\n",
    "    return x(n-1)+2;\n",
    "\n",
    "x(5)"
   ]
  },
  {
   "cell_type": "code",
   "execution_count": null,
   "metadata": {},
   "outputs": [],
   "source": [
    "# 하노이탑 : \n",
    "def x(n):\n",
    "    "
   ]
  }
 ],
 "metadata": {
  "kernelspec": {
   "display_name": "Python 3",
   "language": "python",
   "name": "python3"
  },
  "language_info": {
   "codemirror_mode": {
    "name": "ipython",
    "version": 3
   },
   "file_extension": ".py",
   "mimetype": "text/x-python",
   "name": "python",
   "nbconvert_exporter": "python",
   "pygments_lexer": "ipython3",
   "version": "3.7.6"
  }
 },
 "nbformat": 4,
 "nbformat_minor": 4
}
