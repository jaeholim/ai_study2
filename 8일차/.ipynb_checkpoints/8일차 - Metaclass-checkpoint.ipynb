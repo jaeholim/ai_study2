{
 "cells": [
  {
   "cell_type": "markdown",
   "metadata": {},
   "source": [
    "# meta class\n",
    "- class의 class를 metaclass라고 함\n",
    "- type을 meta class라고 함\n",
    "- **Class의 기능을 결정 하는 Class**"
   ]
  },
  {
   "cell_type": "code",
   "execution_count": null,
   "metadata": {},
   "outputs": [],
   "source": [
    "# meta class 만들기\n",
    "# \n",
    "\n",
    "class MyType(type):                          # type Class를 상속 받아 Custom Type을 만듬\n",
    "    pass\n",
    "\n",
    "class MyMetaClass(metaclass=MyType):         # Custom Type을 사용하는 Custom Meta Class (metaclass 값으로 type Class가 들어가야함)\n",
    "    pass\n",
    "\n",
    "class MyGeneralClass()\n",
    "    pass"
   ]
  },
  {
   "cell_type": "code",
   "execution_count": 17,
   "metadata": {},
   "outputs": [
    {
     "name": "stdout",
     "output_type": "stream",
     "text": [
      "0x5320e48 0x5320e48\n"
     ]
    }
   ],
   "source": [
    "## Meta Class를 이용한 Singleton\n",
    "\n",
    "class Singleton(type):\n",
    "    instance = None\n",
    "    def __call__(cls, *args, **kargs):\n",
    "        if not cls.instance:\n",
    "            cls.instance = super(Singleton, cls).__call__(*args, **kargs)\n",
    "        return cls.instance\n",
    "\n",
    "    \n",
    "class ASingleton(metaclass=Singleton):\n",
    "    pass\n",
    "\n",
    "a = ASingleton()\n",
    "b = ASingleton()\n",
    "\n",
    "print(hex(id(a)), hex(id(a)))"
   ]
  },
  {
   "cell_type": "code",
   "execution_count": null,
   "metadata": {},
   "outputs": [],
   "source": []
  },
  {
   "cell_type": "code",
   "execution_count": 4,
   "metadata": {},
   "outputs": [
    {
     "data": {
      "text/plain": [
       "type"
      ]
     },
     "execution_count": 4,
     "metadata": {},
     "output_type": "execute_result"
    }
   ],
   "source": [
    "type(type('sum', (int,), {}))"
   ]
  },
  {
   "cell_type": "code",
   "execution_count": 10,
   "metadata": {},
   "outputs": [
    {
     "name": "stdout",
     "output_type": "stream",
     "text": [
      "1\n"
     ]
    },
    {
     "data": {
      "text/plain": [
       "type"
      ]
     },
     "execution_count": 10,
     "metadata": {},
     "output_type": "execute_result"
    }
   ],
   "source": [
    "x = type('sum', (int,), {})     # 클래스를 만들어 줌\n",
    "x.__bases__                     # 현재 클래스의 부모 클래스\n",
    "print(x(1))\n",
    "x.__class__"
   ]
  },
  {
   "cell_type": "code",
   "execution_count": 11,
   "metadata": {},
   "outputs": [
    {
     "data": {
      "text/plain": [
       "()"
      ]
     },
     "execution_count": 11,
     "metadata": {},
     "output_type": "execute_result"
    }
   ],
   "source": [
    "object.__bases__"
   ]
  },
  {
   "cell_type": "code",
   "execution_count": 12,
   "metadata": {},
   "outputs": [
    {
     "data": {
      "text/plain": [
       "type"
      ]
     },
     "execution_count": 12,
     "metadata": {},
     "output_type": "execute_result"
    }
   ],
   "source": [
    "type(type)"
   ]
  },
  {
   "cell_type": "code",
   "execution_count": 13,
   "metadata": {},
   "outputs": [
    {
     "data": {
      "text/plain": [
       "type"
      ]
     },
     "execution_count": 13,
     "metadata": {},
     "output_type": "execute_result"
    }
   ],
   "source": [
    "type(object)"
   ]
  },
  {
   "cell_type": "code",
   "execution_count": 14,
   "metadata": {},
   "outputs": [
    {
     "data": {
      "text/plain": [
       "(object,)"
      ]
     },
     "execution_count": 14,
     "metadata": {},
     "output_type": "execute_result"
    }
   ],
   "source": [
    "type.__bases__"
   ]
  },
  {
   "cell_type": "code",
   "execution_count": null,
   "metadata": {},
   "outputs": [],
   "source": []
  }
 ],
 "metadata": {
  "kernelspec": {
   "display_name": "Python 3",
   "language": "python",
   "name": "python3"
  },
  "language_info": {
   "codemirror_mode": {
    "name": "ipython",
    "version": 3
   },
   "file_extension": ".py",
   "mimetype": "text/x-python",
   "name": "python",
   "nbconvert_exporter": "python",
   "pygments_lexer": "ipython3",
   "version": "3.7.6"
  }
 },
 "nbformat": 4,
 "nbformat_minor": 4
}
