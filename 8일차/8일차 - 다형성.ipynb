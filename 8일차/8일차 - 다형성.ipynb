{
 "cells": [
  {
   "cell_type": "markdown",
   "metadata": {},
   "source": [
    "# 다형성 (polymorphism)\n",
    "- 데이터 타입에 따라서 다른 작업을 하게 되는 것"
   ]
  },
  {
   "cell_type": "code",
   "execution_count": 4,
   "metadata": {},
   "outputs": [
    {
     "name": "stdout",
     "output_type": "stream",
     "text": [
      "3\n",
      "12\n",
      "[1, '2']\n"
     ]
    }
   ],
   "source": [
    "def add_(x, y):\n",
    "    return x + y\n",
    "\n",
    "print(add_(1, 2))        # add_ function에 넘겨지는 데이터의 type에 따라 동작 방식이 달라 짐\n",
    "print(add_('1', '2'))    # add_ function에 넘겨지는 데이터의 type에 따라 동작 방식이 달라 짐\n",
    "print(add_([1], ['2']))    # add_ function에 넘겨지는 데이터의 type에 따라 동작 방식이 달라 짐\n"
   ]
  },
  {
   "cell_type": "code",
   "execution_count": 6,
   "metadata": {},
   "outputs": [
    {
     "data": {
      "text/plain": [
       "'12'"
      ]
     },
     "execution_count": 6,
     "metadata": {},
     "output_type": "execute_result"
    }
   ],
   "source": [
    "def f1(x):\n",
    "    return x\n",
    "\n",
    "add_(f1(1), f1(2))\n",
    "add_(f1('1'), f1('2'))"
   ]
  },
  {
   "cell_type": "code",
   "execution_count": 7,
   "metadata": {},
   "outputs": [
    {
     "data": {
      "text/plain": [
       "11"
      ]
     },
     "execution_count": 7,
     "metadata": {},
     "output_type": "execute_result"
    }
   ],
   "source": [
    "class A:\n",
    "    def __init__(self):\n",
    "        self.v = 1\n",
    "    def __add__(self, x):           # 연산자 오버로딩 (operation overloading)\" : +\" 연산자의 기능을 변경 \n",
    "        return self.v + x\n",
    "    \n",
    "a = A()\n",
    "a+10"
   ]
  },
  {
   "cell_type": "code",
   "execution_count": null,
   "metadata": {},
   "outputs": [],
   "source": []
  }
 ],
 "metadata": {
  "kernelspec": {
   "display_name": "Python 3",
   "language": "python",
   "name": "python3"
  },
  "language_info": {
   "codemirror_mode": {
    "name": "ipython",
    "version": 3
   },
   "file_extension": ".py",
   "mimetype": "text/x-python",
   "name": "python",
   "nbconvert_exporter": "python",
   "pygments_lexer": "ipython3",
   "version": "3.7.6"
  }
 },
 "nbformat": 4,
 "nbformat_minor": 4
}
