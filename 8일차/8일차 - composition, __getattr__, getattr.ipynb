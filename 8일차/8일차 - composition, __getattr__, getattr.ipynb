{
 "cells": [
  {
   "cell_type": "markdown",
   "metadata": {},
   "source": [
    "# Composition(합성)\n",
    "- 초기화시 다른 클래스(상속받을 클래스?)의 인스턴스를 생성해서 사용하는 방법\n",
    "- 다른 클래스의 인스턴스와 현재 클래스가 합쳐져서 사용된다고 하여 composition이라고 함\n",
    "- 상속대신 초기화시 상속 클래스의 인스턴스를 생성 함\n",
    "- python에서는 상속보다 Composition(합성)을 더 많이 사용함\n",
    "\n",
    "# __getattr__()\n",
    "- 없는 instance attribute를 접근 하려고 할때 AttributeError가 발생하게 되는데 해당 Case에서 AttributeError 대신 __getattr__()을 호출 해줌\n",
    "- 단, Class attribute를 접근 하는것은 AttributeError를 그대로 반환함\n",
    "\n",
    "# getattr([instance],  name)\n",
    "- instance에 있는 \"name\" instance attribute를 반환함 (method, attribute)"
   ]
  },
  {
   "cell_type": "code",
   "execution_count": null,
   "metadata": {},
   "outputs": [],
   "source": [
    "# composition을 간단하게 사용하기 위한 방법\n",
    "\n"
   ]
  },
  {
   "cell_type": "code",
   "execution_count": 40,
   "metadata": {},
   "outputs": [
    {
     "name": "stdout",
     "output_type": "stream",
     "text": [
      "<bound method Door.open of <__main__.Door object at 0x0000000006CF3D88>> <class 'method'>\n",
      "1 True\n",
      "<bound method Door.close of <__main__.Door object at 0x0000000006CF3D88>> <class 'method'>\n",
      "1 False\n"
     ]
    },
    {
     "data": {
      "text/plain": [
       "False"
      ]
     },
     "execution_count": 40,
     "metadata": {},
     "output_type": "execute_result"
    }
   ],
   "source": [
    "# getattr() 사용법\n",
    "class Door:\n",
    "    def __init__(self, number):\n",
    "        self. number = number\n",
    "        \n",
    "    def open(self):\n",
    "        self.isopen = True\n",
    "        \n",
    "    def close(self):\n",
    "        self.isopen = False\n",
    "\n",
    "class SecureDoor:\n",
    "    def __init__(self, number):\n",
    "        self.door = Door(number)          # composition\n",
    "    \n",
    "    def __getattr__(self, n):\n",
    "        return getattr(self.door, n)            # door instance의 attribute의 이름을 반환힘\n",
    "        \n",
    "dd = SecureDoor(1)\n",
    "\n",
    "print(dd.open, type(dd.open))\n",
    "dd.open()                           ## getattr을 이용하여 door의 open method를 받은 다음 \"()\"를 이용하여 method를 호출 함\n",
    "print(dd.door.number, dd.door.isopen)\n",
    "print(dd.close, type(dd.close))\n",
    "dd.close()                          ## getattr을 이용하여 door의 close method를 받은 다음 \"()\"를 이용하여 method를 호출 함\n",
    "print(dd.door.number, dd.door.isopen)\n",
    "dd.isopen                            ## getattr을 이용하여 door의 isopen attribute를 받음\n",
    "      "
   ]
  },
  {
   "cell_type": "code",
   "execution_count": 26,
   "metadata": {
    "scrolled": true
   },
   "outputs": [
    {
     "name": "stdout",
     "output_type": "stream",
     "text": [
      "1\n"
     ]
    }
   ],
   "source": [
    "# __getattr__ 알아보기\n",
    "\n",
    "\n",
    "class A:\n",
    "    y=1\n",
    "    ## __getattr__ 함수가 있으면 instance 환경에서 AttributeError 가 발생하면 __getattr__ 함수에 정의된 대로 처리 함\n",
    "    ## 단, Class 환경에서 없는 class attribute를 참고하면 AttributeError가 발생함\n",
    "    def __getattr__(self, x):    \n",
    "        print(x)\n",
    "        \n",
    "print(A.y)\n",
    "# print(A.x)  # AttributeError                            \n",
    "\n",
    "aa = A()\n"
   ]
  },
  {
   "cell_type": "code",
   "execution_count": 24,
   "metadata": {
    "scrolled": true
   },
   "outputs": [
    {
     "name": "stdout",
     "output_type": "stream",
     "text": [
      "t\n"
     ]
    }
   ],
   "source": [
    "aa.t"
   ]
  },
  {
   "cell_type": "code",
   "execution_count": 27,
   "metadata": {},
   "outputs": [
    {
     "name": "stdout",
     "output_type": "stream",
     "text": [
      "xx\n"
     ]
    },
    {
     "ename": "TypeError",
     "evalue": "'NoneType' object is not callable",
     "output_type": "error",
     "traceback": [
      "\u001b[1;31m---------------------------------------------------------------------------\u001b[0m",
      "\u001b[1;31mTypeError\u001b[0m                                 Traceback (most recent call last)",
      "\u001b[1;32m<ipython-input-27-75f7ee66f3d9>\u001b[0m in \u001b[0;36m<module>\u001b[1;34m\u001b[0m\n\u001b[1;32m----> 1\u001b[1;33m \u001b[0maa\u001b[0m\u001b[1;33m.\u001b[0m\u001b[0mxx\u001b[0m\u001b[1;33m(\u001b[0m\u001b[1;33m)\u001b[0m\u001b[1;33m\u001b[0m\u001b[1;33m\u001b[0m\u001b[0m\n\u001b[0m",
      "\u001b[1;31mTypeError\u001b[0m: 'NoneType' object is not callable"
     ]
    }
   ],
   "source": [
    "aa.xx()   ### AttributeError가 발생할때 __getattr__이 호출되는 것이므로 instance method는 attribute 호출된것에 \"()\"를 이용하여 function을 호출 한것과 같은 결과여서 아래와 같은 에러 발생함"
   ]
  },
  {
   "cell_type": "code",
   "execution_count": 37,
   "metadata": {},
   "outputs": [
    {
     "name": "stdout",
     "output_type": "stream",
     "text": [
      "1 False\n",
      "1 True\n"
     ]
    }
   ],
   "source": [
    "class Door:\n",
    "    def __init__(self, number):\n",
    "        self. number = number\n",
    "        \n",
    "    def open(self):\n",
    "        self.isopen = True\n",
    "        \n",
    "    def close(self):\n",
    "        self.isopen = False\n",
    "        \n",
    "\n",
    "class SecureDoor:\n",
    "    def __init__(self, number):\n",
    "        self.lock = False\n",
    "        self.door = Door(number)          # composition\n",
    "\n",
    "    def open(self):\n",
    "        if self.lock:\n",
    "            self.lock = False\n",
    "        self.door.open()\n",
    "\n",
    "    def close(self):\n",
    "        if not self.lock:\n",
    "            self.lock = True\n",
    "        self.door.close()\n",
    "        \n",
    "d1 = SecureDoor(1)\n",
    "d1.open()\n",
    "print(d1.door.number, d1.lock)\n",
    "d1.close()\n",
    "print(d1.door.number, d1.lock)\n"
   ]
  },
  {
   "cell_type": "code",
   "execution_count": null,
   "metadata": {},
   "outputs": [],
   "source": []
  }
 ],
 "metadata": {
  "kernelspec": {
   "display_name": "Python 3",
   "language": "python",
   "name": "python3"
  },
  "language_info": {
   "codemirror_mode": {
    "name": "ipython",
    "version": 3
   },
   "file_extension": ".py",
   "mimetype": "text/x-python",
   "name": "python",
   "nbconvert_exporter": "python",
   "pygments_lexer": "ipython3",
   "version": "3.7.6"
  }
 },
 "nbformat": 4,
 "nbformat_minor": 4
}
