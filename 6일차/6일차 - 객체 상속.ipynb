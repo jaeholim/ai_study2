{
 "cells": [
  {
   "cell_type": "markdown",
   "metadata": {},
   "source": [
    "# "
   ]
  },
  {
   "cell_type": "code",
   "execution_count": null,
   "metadata": {},
   "outputs": [],
   "source": [
    "import PIL\n",
    "from PIL import Image\n",
    "x = Image.open('C:\\\\Users\\\\joojin\\\\ai_교육자료\\\\6일차\\\\제니.JPG')\n",
    "x.crop((100,10,300,40))\n",
    "x.rotate(10)"
   ]
  },
  {
   "cell_type": "code",
   "execution_count": 21,
   "metadata": {},
   "outputs": [
    {
     "data": {
      "text/plain": [
       "PIL.JpegImagePlugin.JpegImageFile"
      ]
     },
     "execution_count": 21,
     "metadata": {},
     "output_type": "execute_result"
    }
   ],
   "source": [
    "type(x)"
   ]
  },
  {
   "cell_type": "code",
   "execution_count": 31,
   "metadata": {},
   "outputs": [
    {
     "name": "stdout",
     "output_type": "stream",
     "text": [
      "Variable   Type             Data/Info\n",
      "-------------------------------------\n",
      "I2         type             <class '__main__.I2'>\n",
      "Image      module           <module 'PIL.Image' from <...>packages\\\\PIL\\\\Image.py'>\n",
      "M2         type             <class '__main__.M2'>\n",
      "PIL        module           <module 'PIL' from 'C:\\\\P<...>kages\\\\PIL\\\\__init__.py'>\n",
      "x          JpegImageFile    <PIL.JpegImagePlugin.Jpeg<...>e= size=0x0 at 0x557D388>\n"
     ]
    }
   ],
   "source": [
    "%whos"
   ]
  },
  {
   "cell_type": "code",
   "execution_count": 29,
   "metadata": {},
   "outputs": [
    {
     "ename": "SyntaxError",
     "evalue": "invalid syntax (<ipython-input-29-86b671b09da9>, line 1)",
     "output_type": "error",
     "traceback": [
      "\u001b[1;36m  File \u001b[1;32m\"<ipython-input-29-86b671b09da9>\"\u001b[1;36m, line \u001b[1;32m1\u001b[0m\n\u001b[1;33m    $whos\u001b[0m\n\u001b[1;37m    ^\u001b[0m\n\u001b[1;31mSyntaxError\u001b[0m\u001b[1;31m:\u001b[0m invalid syntax\n"
     ]
    }
   ],
   "source": [
    "\n",
    "class M2(PIL.JpegImagePlugin.JpegImageFile):\n",
    "    def rotate(self, angle=50):\n",
    "        super().rotate(50)\n",
    "        \n",
    "i = M2.__init__(x)\n",
    "i.rotate()"
   ]
  },
  {
   "cell_type": "code",
   "execution_count": 13,
   "metadata": {},
   "outputs": [
    {
     "data": {
      "text/plain": [
       "['_Image__transformer',\n",
       " '__array_interface__',\n",
       " '__class__',\n",
       " '__copy__',\n",
       " '__delattr__',\n",
       " '__dict__',\n",
       " '__dir__',\n",
       " '__doc__',\n",
       " '__enter__',\n",
       " '__eq__',\n",
       " '__exit__',\n",
       " '__format__',\n",
       " '__ge__',\n",
       " '__getattribute__',\n",
       " '__getstate__',\n",
       " '__gt__',\n",
       " '__hash__',\n",
       " '__init__',\n",
       " '__init_subclass__',\n",
       " '__le__',\n",
       " '__lt__',\n",
       " '__module__',\n",
       " '__ne__',\n",
       " '__new__',\n",
       " '__reduce__',\n",
       " '__reduce_ex__',\n",
       " '__repr__',\n",
       " '__setattr__',\n",
       " '__setstate__',\n",
       " '__sizeof__',\n",
       " '__str__',\n",
       " '__subclasshook__',\n",
       " '__weakref__',\n",
       " '_close_exclusive_fp_after_loading',\n",
       " '_copy',\n",
       " '_crop',\n",
       " '_dump',\n",
       " '_ensure_mutable',\n",
       " '_exclusive_fp',\n",
       " '_exif',\n",
       " '_expand',\n",
       " '_get_safe_box',\n",
       " '_getexif',\n",
       " '_getmp',\n",
       " '_min_frame',\n",
       " '_new',\n",
       " '_open',\n",
       " '_repr_png_',\n",
       " '_seek_check',\n",
       " '_size',\n",
       " 'alpha_composite',\n",
       " 'app',\n",
       " 'applist',\n",
       " 'bits',\n",
       " 'category',\n",
       " 'close',\n",
       " 'convert',\n",
       " 'copy',\n",
       " 'crop',\n",
       " 'custom_mimetype',\n",
       " 'decoderconfig',\n",
       " 'decodermaxblock',\n",
       " 'draft',\n",
       " 'effect_spread',\n",
       " 'encoderconfig',\n",
       " 'encoderinfo',\n",
       " 'entropy',\n",
       " 'filename',\n",
       " 'filter',\n",
       " 'format',\n",
       " 'format_description',\n",
       " 'fp',\n",
       " 'frombytes',\n",
       " 'fromstring',\n",
       " 'get_format_mimetype',\n",
       " 'getbands',\n",
       " 'getbbox',\n",
       " 'getchannel',\n",
       " 'getcolors',\n",
       " 'getdata',\n",
       " 'getexif',\n",
       " 'getextrema',\n",
       " 'getim',\n",
       " 'getpalette',\n",
       " 'getpixel',\n",
       " 'getprojection',\n",
       " 'height',\n",
       " 'histogram',\n",
       " 'huffman_ac',\n",
       " 'huffman_dc',\n",
       " 'icclist',\n",
       " 'im',\n",
       " 'info',\n",
       " 'layer',\n",
       " 'layers',\n",
       " 'load',\n",
       " 'load_djpeg',\n",
       " 'load_end',\n",
       " 'load_prepare',\n",
       " 'load_read',\n",
       " 'map',\n",
       " 'mode',\n",
       " 'offset',\n",
       " 'palette',\n",
       " 'paste',\n",
       " 'point',\n",
       " 'putalpha',\n",
       " 'putdata',\n",
       " 'putpalette',\n",
       " 'putpixel',\n",
       " 'pyaccess',\n",
       " 'quantization',\n",
       " 'quantize',\n",
       " 'readonly',\n",
       " 'reduce',\n",
       " 'remap_palette',\n",
       " 'resize',\n",
       " 'rotate',\n",
       " 'save',\n",
       " 'seek',\n",
       " 'show',\n",
       " 'size',\n",
       " 'split',\n",
       " 'tell',\n",
       " 'thumbnail',\n",
       " 'tile',\n",
       " 'tobitmap',\n",
       " 'tobytes',\n",
       " 'toqimage',\n",
       " 'toqpixmap',\n",
       " 'tostring',\n",
       " 'transform',\n",
       " 'transpose',\n",
       " 'verify',\n",
       " 'width']"
      ]
     },
     "execution_count": 13,
     "metadata": {},
     "output_type": "execute_result"
    }
   ],
   "source": [
    "dir(x)"
   ]
  },
  {
   "cell_type": "code",
   "execution_count": 9,
   "metadata": {},
   "outputs": [
    {
     "data": {
      "text/plain": [
       "['ADAPTIVE',\n",
       " 'AFFINE',\n",
       " 'ANTIALIAS',\n",
       " 'BICUBIC',\n",
       " 'BILINEAR',\n",
       " 'BOX',\n",
       " 'CONTAINER',\n",
       " 'CUBIC',\n",
       " 'Callable',\n",
       " 'DECODERS',\n",
       " 'DEFAULT_STRATEGY',\n",
       " 'DecompressionBombError',\n",
       " 'DecompressionBombWarning',\n",
       " 'ENCODERS',\n",
       " 'EXTENSION',\n",
       " 'EXTENT',\n",
       " 'Exif',\n",
       " 'FASTOCTREE',\n",
       " 'FILTERED',\n",
       " 'FIXED',\n",
       " 'FLIP_LEFT_RIGHT',\n",
       " 'FLIP_TOP_BOTTOM',\n",
       " 'FLOYDSTEINBERG',\n",
       " 'HAMMING',\n",
       " 'HUFFMAN_ONLY',\n",
       " 'ID',\n",
       " 'Image',\n",
       " 'ImageMode',\n",
       " 'ImagePointHandler',\n",
       " 'ImageTransformHandler',\n",
       " 'LANCZOS',\n",
       " 'LIBIMAGEQUANT',\n",
       " 'LINEAR',\n",
       " 'MAXCOVERAGE',\n",
       " 'MAX_IMAGE_PIXELS',\n",
       " 'MEDIANCUT',\n",
       " 'MESH',\n",
       " 'MIME',\n",
       " 'MODES',\n",
       " 'MutableMapping',\n",
       " 'NEAREST',\n",
       " 'NONE',\n",
       " 'NORMAL',\n",
       " 'OPEN',\n",
       " 'ORDERED',\n",
       " 'PERSPECTIVE',\n",
       " 'Path',\n",
       " 'QUAD',\n",
       " 'RASTERIZE',\n",
       " 'RLE',\n",
       " 'ROTATE_180',\n",
       " 'ROTATE_270',\n",
       " 'ROTATE_90',\n",
       " 'SAVE',\n",
       " 'SAVE_ALL',\n",
       " 'SEQUENCE',\n",
       " 'TRANSPOSE',\n",
       " 'TRANSVERSE',\n",
       " 'TiffTags',\n",
       " 'USE_CFFI_ACCESS',\n",
       " 'UnidentifiedImageError',\n",
       " 'WEB',\n",
       " '_E',\n",
       " '_ENDIAN',\n",
       " '_MAPMODES',\n",
       " '_MODEINFO',\n",
       " '_MODE_CONV',\n",
       " '__builtins__',\n",
       " '__cached__',\n",
       " '__doc__',\n",
       " '__file__',\n",
       " '__loader__',\n",
       " '__name__',\n",
       " '__package__',\n",
       " '__spec__',\n",
       " '__version__',\n",
       " '_apply_env_variables',\n",
       " '_check_size',\n",
       " '_conv_type_shape',\n",
       " '_decompression_bomb_check',\n",
       " '_filters_support',\n",
       " '_fromarray_typemap',\n",
       " '_getdecoder',\n",
       " '_getencoder',\n",
       " '_getscaleoffset',\n",
       " '_initialized',\n",
       " '_plugins',\n",
       " '_show',\n",
       " '_showxv',\n",
       " '_wedge',\n",
       " 'alpha_composite',\n",
       " 'atexit',\n",
       " 'blend',\n",
       " 'builtins',\n",
       " 'cffi',\n",
       " 'coerce_e',\n",
       " 'composite',\n",
       " 'core',\n",
       " 'deferred_error',\n",
       " 'effect_mandelbrot',\n",
       " 'effect_noise',\n",
       " 'eval',\n",
       " 'fromarray',\n",
       " 'frombuffer',\n",
       " 'frombytes',\n",
       " 'fromqimage',\n",
       " 'fromqpixmap',\n",
       " 'fromstring',\n",
       " 'getmodebandnames',\n",
       " 'getmodebands',\n",
       " 'getmodebase',\n",
       " 'getmodetype',\n",
       " 'i32le',\n",
       " 'i8',\n",
       " 'init',\n",
       " 'io',\n",
       " 'isImageType',\n",
       " 'isPath',\n",
       " 'linear_gradient',\n",
       " 'logger',\n",
       " 'logging',\n",
       " 'math',\n",
       " 'merge',\n",
       " 'new',\n",
       " 'numbers',\n",
       " 'open',\n",
       " 'os',\n",
       " 'preinit',\n",
       " 'radial_gradient',\n",
       " 'register_decoder',\n",
       " 'register_encoder',\n",
       " 'register_extension',\n",
       " 'register_extensions',\n",
       " 'register_mime',\n",
       " 'register_open',\n",
       " 'register_save',\n",
       " 'register_save_all',\n",
       " 'registered_extensions',\n",
       " 'struct',\n",
       " 'sys',\n",
       " 'tempfile',\n",
       " 'warnings']"
      ]
     },
     "execution_count": 9,
     "metadata": {},
     "output_type": "execute_result"
    }
   ],
   "source": [
    "dir(Image)"
   ]
  },
  {
   "cell_type": "code",
   "execution_count": 10,
   "metadata": {},
   "outputs": [
    {
     "data": {
      "text/plain": [
       "['Image',\n",
       " 'ImageMode',\n",
       " 'TiffTags',\n",
       " 'UnidentifiedImageError',\n",
       " '__builtins__',\n",
       " '__cached__',\n",
       " '__doc__',\n",
       " '__file__',\n",
       " '__loader__',\n",
       " '__name__',\n",
       " '__package__',\n",
       " '__path__',\n",
       " '__spec__',\n",
       " '__version__',\n",
       " '_binary',\n",
       " '_imaging',\n",
       " '_plugins',\n",
       " '_util']"
      ]
     },
     "execution_count": 10,
     "metadata": {},
     "output_type": "execute_result"
    }
   ],
   "source": [
    "dir(PIL)"
   ]
  },
  {
   "cell_type": "code",
   "execution_count": 39,
   "metadata": {},
   "outputs": [
    {
     "name": "stdout",
     "output_type": "stream",
     "text": [
      "B\n",
      "C\n"
     ]
    }
   ],
   "source": [
    "# 다형성\n",
    "class A:\n",
    "    def fly(self):\n",
    "        print('A')\n",
    "\n",
    "class B(A):\n",
    "    def fly(self):  \n",
    "        print('B')\n",
    "    \n",
    "class C(A):\n",
    "    def fly(self):\n",
    "        print('C')\n",
    "        \n",
    "b = B()\n",
    "c = C()\n",
    "\n",
    "b.fly()\n",
    "c.fly()\n"
   ]
  },
  {
   "cell_type": "code",
   "execution_count": 63,
   "metadata": {},
   "outputs": [
    {
     "name": "stdout",
     "output_type": "stream",
     "text": [
      "\n",
      "2 * 1 = 2, 2 * 2 = 4, 2 * 3 = 6, 2 * 4 = 8, 2 * 5 = 10, 2 * 6 = 12, 2 * 7 = 14, 2 * 8 = 16, 2 * 9 = 18, \n",
      "-----\n",
      "\n",
      "5 * 1 = 5, 5 * 2 = 10, 5 * 3 = 15, 5 * 4 = 20, 5 * 5 = 25, 5 * 6 = 30, 5 * 7 = 35, 5 * 8 = 40, 5 * 9 = 45, \n",
      "-----\n",
      "6 * 10 = 60, 6 * 9 = 54, 6 * 8 = 48, 6 * 7 = 42, 6 * 6 = 36, 6 * 5 = 30, 6 * 4 = 24, 6 * 3 = 18, 6 * 2 = 12, 6 * 1 = 6, "
     ]
    }
   ],
   "source": [
    "class GUGU:\n",
    "    def __init__(self, d):\n",
    "        self.dan = d\n",
    "    def print_gugu(self):\n",
    "        print()\n",
    "        for i in range(1,10):\n",
    "            print(self.dan, '*', i, '=', self.dan*i, end=', ')\n",
    "\n",
    "class GUGUV2(GUGU):\n",
    "    def __init__(self):\n",
    "        self.dan = 0\n",
    "    def print_gugu(self, d):\n",
    "        if d > 0:\n",
    "            super().__init__(d)\n",
    "        super().print_gugu()\n",
    "    def print_reverse(self, d):\n",
    "        self.dan = d\n",
    "        for i in range(10, 0, -1):\n",
    "            print(self.dan, '*', i, '=', self.dan*i, end=', ')\n",
    "        \n",
    "g = GUGU(2)\n",
    "g.print_gugu()\n",
    "\n",
    "print('\\n-----')\n",
    "gv2 = GUGUV2()\n",
    "gv2.print_gugu(5)\n",
    "print('\\n-----')\n",
    "gv2.print_reverse(6)"
   ]
  },
  {
   "cell_type": "code",
   "execution_count": 61,
   "metadata": {},
   "outputs": [
    {
     "data": {
      "text/plain": [
       "range(9, 0, -1)"
      ]
     },
     "execution_count": 61,
     "metadata": {},
     "output_type": "execute_result"
    }
   ],
   "source": []
  },
  {
   "cell_type": "code",
   "execution_count": null,
   "metadata": {},
   "outputs": [],
   "source": []
  }
 ],
 "metadata": {
  "kernelspec": {
   "display_name": "Python 3",
   "language": "python",
   "name": "python3"
  },
  "language_info": {
   "codemirror_mode": {
    "name": "ipython",
    "version": 3
   },
   "file_extension": ".py",
   "mimetype": "text/x-python",
   "name": "python",
   "nbconvert_exporter": "python",
   "pygments_lexer": "ipython3",
   "version": "3.7.6"
  }
 },
 "nbformat": 4,
 "nbformat_minor": 4
}
