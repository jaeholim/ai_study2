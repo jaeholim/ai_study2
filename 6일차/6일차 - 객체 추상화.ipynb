{
 "cells": [
  {
   "cell_type": "markdown",
   "metadata": {},
   "source": [
    "# 객체 추상화"
   ]
  },
  {
   "cell_type": "code",
   "execution_count": 4,
   "metadata": {},
   "outputs": [
    {
     "name": "stdout",
     "output_type": "stream",
     "text": [
      "2 * 1 = 2\n",
      "2 * 2 = 4\n",
      "2 * 3 = 6\n",
      "2 * 4 = 8\n",
      "2 * 5 = 10\n",
      "2 * 6 = 12\n",
      "2 * 7 = 14\n",
      "2 * 8 = 16\n",
      "2 * 9 = 18\n",
      "3 * 1 = 3\n",
      "3 * 2 = 6\n",
      "3 * 3 = 9\n",
      "3 * 4 = 12\n",
      "3 * 5 = 15\n",
      "3 * 6 = 18\n",
      "3 * 7 = 21\n",
      "3 * 8 = 24\n",
      "3 * 9 = 27\n"
     ]
    }
   ],
   "source": [
    "# 추상화 : 공통되는 부분을 뽑아내서 처리\n",
    "class GuGu():\n",
    "    def print_dan(self):\n",
    "        for i in range(1, 10):\n",
    "            print(self.dan, '*', i, '=', self.dan*i) \n",
    "\n",
    "class Two(GuGu):\n",
    "    def __init__(self):\n",
    "        self.dan = 2\n",
    "            \n",
    "class Three(GuGu):\n",
    "    def __init__(self):\n",
    "        self.dan = 3\n",
    "\n",
    "two = Two()\n",
    "two.print_dan()\n",
    "\n",
    "three = Three()\n",
    "three.print_dan()"
   ]
  },
  {
   "cell_type": "code",
   "execution_count": null,
   "metadata": {},
   "outputs": [],
   "source": [
    "class Two():\n",
    "    def print_dan(self):\n",
    "        for i in range(1, 10):\n",
    "            print(2, '*', i, '=', 2*i)\n",
    "            \n",
    "class Three():\n",
    "    def print_dan(self):\n",
    "        for i in range(1, 10):\n",
    "            print(3, '*', i, '=', 3*i)\n"
   ]
  }
 ],
 "metadata": {
  "kernelspec": {
   "display_name": "Python 3",
   "language": "python",
   "name": "python3"
  },
  "language_info": {
   "codemirror_mode": {
    "name": "ipython",
    "version": 3
   },
   "file_extension": ".py",
   "mimetype": "text/x-python",
   "name": "python",
   "nbconvert_exporter": "python",
   "pygments_lexer": "ipython3",
   "version": "3.7.6"
  }
 },
 "nbformat": 4,
 "nbformat_minor": 4
}
